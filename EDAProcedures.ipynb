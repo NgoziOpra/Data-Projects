{
  "nbformat": 4,
  "nbformat_minor": 0,
  "metadata": {
    "colab": {
      "provenance": []
    },
    "kernelspec": {
      "name": "python3",
      "display_name": "Python 3"
    },
    "language_info": {
      "name": "python"
    }
  },
  "cells": [
    {
      "cell_type": "markdown",
      "metadata": {
        "id": "CGNivwev3-2N"
      },
      "source": [
        "Importing the data"
      ]
    },
    {
      "cell_type": "code",
      "metadata": {
        "colab": {
          "base_uri": "https://localhost:8080/"
        },
        "id": "g-yNtsEX6PMb",
        "outputId": "89665f18-5222-4767-a3e3-d1239d1b2c1f"
      },
      "source": [
        "!wget 46.101.230.157/testtask/dilans_data.csv"
      ],
      "execution_count": null,
      "outputs": [
        {
          "output_type": "stream",
          "text": [
            "--2021-05-07 12:12:39--  http://46.101.230.157/testtask/dilans_data.csv\n",
            "Connecting to 46.101.230.157:80... connected.\n",
            "HTTP request sent, awaiting response... 200 OK\n",
            "Length: 34060918 (32M) [application/octet-stream]\n",
            "Saving to: ‘dilans_data.csv’\n",
            "\n",
            "dilans_data.csv     100%[===================>]  32.48M  11.6MB/s    in 2.8s    \n",
            "\n",
            "2021-05-07 12:12:42 (11.6 MB/s) - ‘dilans_data.csv’ saved [34060918/34060918]\n",
            "\n"
          ],
          "name": "stdout"
        }
      ]
    },
    {
      "cell_type": "markdown",
      "metadata": {
        "id": "T0bNdtpI4UWi"
      },
      "source": [
        "Importing Libraries"
      ]
    },
    {
      "cell_type": "code",
      "metadata": {
        "id": "Spy7JKOB69G6"
      },
      "source": [
        "import pandas as pd\n",
        "import numpy as np\n",
        "import matplotlib\n",
        "import matplotlib.pyplot as plt\n",
        "%matplotlib inline"
      ],
      "execution_count": null,
      "outputs": []
    },
    {
      "cell_type": "markdown",
      "metadata": {
        "id": "QWNzRjnU4Z81"
      },
      "source": [
        "Separating the dataframe into Columns"
      ]
    },
    {
      "cell_type": "code",
      "metadata": {
        "colab": {
          "base_uri": "https://localhost:8080/",
          "height": 406
        },
        "id": "dZPg_SUG7Ucu",
        "outputId": "bcfb76b0-844f-4fab-ea47-295ad47f27d2"
      },
      "source": [
        "pd.read_csv('dilans_data.csv' , delimiter= ';')"
      ],
      "execution_count": null,
      "outputs": [
        {
          "output_type": "execute_result",
          "data": {
            "text/html": [
              "<div>\n",
              "<style scoped>\n",
              "    .dataframe tbody tr th:only-of-type {\n",
              "        vertical-align: middle;\n",
              "    }\n",
              "\n",
              "    .dataframe tbody tr th {\n",
              "        vertical-align: top;\n",
              "    }\n",
              "\n",
              "    .dataframe thead th {\n",
              "        text-align: right;\n",
              "    }\n",
              "</style>\n",
              "<table border=\"1\" class=\"dataframe\">\n",
              "  <thead>\n",
              "    <tr style=\"text-align: right;\">\n",
              "      <th></th>\n",
              "      <th>2018-01-01 00:01:01</th>\n",
              "      <th>read</th>\n",
              "      <th>country_7</th>\n",
              "      <th>2458151261</th>\n",
              "      <th>SEO</th>\n",
              "      <th>North America</th>\n",
              "    </tr>\n",
              "  </thead>\n",
              "  <tbody>\n",
              "    <tr>\n",
              "      <th>0</th>\n",
              "      <td>2018-01-01 00:03:20</td>\n",
              "      <td>read</td>\n",
              "      <td>country_7</td>\n",
              "      <td>2.458151e+09</td>\n",
              "      <td>SEO</td>\n",
              "      <td>South America</td>\n",
              "    </tr>\n",
              "    <tr>\n",
              "      <th>1</th>\n",
              "      <td>2018-01-01 00:04:01</td>\n",
              "      <td>read</td>\n",
              "      <td>country_7</td>\n",
              "      <td>2.458151e+09</td>\n",
              "      <td>AdWords</td>\n",
              "      <td>Africa</td>\n",
              "    </tr>\n",
              "    <tr>\n",
              "      <th>2</th>\n",
              "      <td>2018-01-01 00:04:02</td>\n",
              "      <td>read</td>\n",
              "      <td>country_7</td>\n",
              "      <td>2.458151e+09</td>\n",
              "      <td>AdWords</td>\n",
              "      <td>Europe</td>\n",
              "    </tr>\n",
              "    <tr>\n",
              "      <th>3</th>\n",
              "      <td>2018-01-01 00:05:03</td>\n",
              "      <td>read</td>\n",
              "      <td>country_8</td>\n",
              "      <td>2.458151e+09</td>\n",
              "      <td>Reddit</td>\n",
              "      <td>North America</td>\n",
              "    </tr>\n",
              "    <tr>\n",
              "      <th>4</th>\n",
              "      <td>2018-01-01 00:05:42</td>\n",
              "      <td>read</td>\n",
              "      <td>country_6</td>\n",
              "      <td>2.458151e+09</td>\n",
              "      <td>Reddit</td>\n",
              "      <td>North America</td>\n",
              "    </tr>\n",
              "    <tr>\n",
              "      <th>...</th>\n",
              "      <td>...</td>\n",
              "      <td>...</td>\n",
              "      <td>...</td>\n",
              "      <td>...</td>\n",
              "      <td>...</td>\n",
              "      <td>...</td>\n",
              "    </tr>\n",
              "    <tr>\n",
              "      <th>597896</th>\n",
              "      <td>2018-03-31 04:34:32</td>\n",
              "      <td>read</td>\n",
              "      <td>country_4</td>\n",
              "      <td>2.458361e+09</td>\n",
              "      <td>Africa</td>\n",
              "      <td>NaN</td>\n",
              "    </tr>\n",
              "    <tr>\n",
              "      <th>597897</th>\n",
              "      <td>2018-03-31 05:02:06</td>\n",
              "      <td>read</td>\n",
              "      <td>country_6</td>\n",
              "      <td>2.458361e+09</td>\n",
              "      <td>Asia</td>\n",
              "      <td>NaN</td>\n",
              "    </tr>\n",
              "    <tr>\n",
              "      <th>597898</th>\n",
              "      <td>2018-03-31 05:02:14</td>\n",
              "      <td>read</td>\n",
              "      <td>country_7</td>\n",
              "      <td>2.458361e+09</td>\n",
              "      <td>North America</td>\n",
              "      <td>NaN</td>\n",
              "    </tr>\n",
              "    <tr>\n",
              "      <th>597899</th>\n",
              "      <td>2018-03-31 05:03:53</td>\n",
              "      <td>read</td>\n",
              "      <td>country_7</td>\n",
              "      <td>2.458361e+09</td>\n",
              "      <td>Europe</td>\n",
              "      <td>NaN</td>\n",
              "    </tr>\n",
              "    <tr>\n",
              "      <th>597900</th>\n",
              "      <td>2018-03-31 05:04:50</td>\n",
              "      <td>read</td>\n",
              "      <td>country_4</td>\n",
              "      <td>2.458361e+09</td>\n",
              "      <td>Africa</td>\n",
              "      <td>NaN</td>\n",
              "    </tr>\n",
              "  </tbody>\n",
              "</table>\n",
              "<p>597901 rows × 6 columns</p>\n",
              "</div>"
            ],
            "text/plain": [
              "        2018-01-01 00:01:01  read  ...            SEO  North America\n",
              "0       2018-01-01 00:03:20  read  ...            SEO  South America\n",
              "1       2018-01-01 00:04:01  read  ...        AdWords         Africa\n",
              "2       2018-01-01 00:04:02  read  ...        AdWords         Europe\n",
              "3       2018-01-01 00:05:03  read  ...         Reddit  North America\n",
              "4       2018-01-01 00:05:42  read  ...         Reddit  North America\n",
              "...                     ...   ...  ...            ...            ...\n",
              "597896  2018-03-31 04:34:32  read  ...         Africa            NaN\n",
              "597897  2018-03-31 05:02:06  read  ...           Asia            NaN\n",
              "597898  2018-03-31 05:02:14  read  ...  North America            NaN\n",
              "597899  2018-03-31 05:03:53  read  ...         Europe            NaN\n",
              "597900  2018-03-31 05:04:50  read  ...         Africa            NaN\n",
              "\n",
              "[597901 rows x 6 columns]"
            ]
          },
          "metadata": {
            "tags": []
          },
          "execution_count": 4
        }
      ]
    },
    {
      "cell_type": "markdown",
      "metadata": {
        "id": "hn2LFUxr4iRS"
      },
      "source": [
        "Naming the Columns"
      ]
    },
    {
      "cell_type": "code",
      "metadata": {
        "colab": {
          "base_uri": "https://localhost:8080/",
          "height": 406
        },
        "id": "KvZY1ACX7x_B",
        "outputId": "4dda5422-3d2a-4dec-9d42-0c76872421bf"
      },
      "source": [
        "pd.read_csv('dilans_data.csv' , delimiter= ';', names = ['datetime','event_type','country','user_id','source','topic'])"
      ],
      "execution_count": null,
      "outputs": [
        {
          "output_type": "execute_result",
          "data": {
            "text/html": [
              "<div>\n",
              "<style scoped>\n",
              "    .dataframe tbody tr th:only-of-type {\n",
              "        vertical-align: middle;\n",
              "    }\n",
              "\n",
              "    .dataframe tbody tr th {\n",
              "        vertical-align: top;\n",
              "    }\n",
              "\n",
              "    .dataframe thead th {\n",
              "        text-align: right;\n",
              "    }\n",
              "</style>\n",
              "<table border=\"1\" class=\"dataframe\">\n",
              "  <thead>\n",
              "    <tr style=\"text-align: right;\">\n",
              "      <th></th>\n",
              "      <th>datetime</th>\n",
              "      <th>event_type</th>\n",
              "      <th>country</th>\n",
              "      <th>user_id</th>\n",
              "      <th>source</th>\n",
              "      <th>topic</th>\n",
              "    </tr>\n",
              "  </thead>\n",
              "  <tbody>\n",
              "    <tr>\n",
              "      <th>0</th>\n",
              "      <td>2018-01-01 00:01:01</td>\n",
              "      <td>read</td>\n",
              "      <td>country_7</td>\n",
              "      <td>2.458151e+09</td>\n",
              "      <td>SEO</td>\n",
              "      <td>North America</td>\n",
              "    </tr>\n",
              "    <tr>\n",
              "      <th>1</th>\n",
              "      <td>2018-01-01 00:03:20</td>\n",
              "      <td>read</td>\n",
              "      <td>country_7</td>\n",
              "      <td>2.458151e+09</td>\n",
              "      <td>SEO</td>\n",
              "      <td>South America</td>\n",
              "    </tr>\n",
              "    <tr>\n",
              "      <th>2</th>\n",
              "      <td>2018-01-01 00:04:01</td>\n",
              "      <td>read</td>\n",
              "      <td>country_7</td>\n",
              "      <td>2.458151e+09</td>\n",
              "      <td>AdWords</td>\n",
              "      <td>Africa</td>\n",
              "    </tr>\n",
              "    <tr>\n",
              "      <th>3</th>\n",
              "      <td>2018-01-01 00:04:02</td>\n",
              "      <td>read</td>\n",
              "      <td>country_7</td>\n",
              "      <td>2.458151e+09</td>\n",
              "      <td>AdWords</td>\n",
              "      <td>Europe</td>\n",
              "    </tr>\n",
              "    <tr>\n",
              "      <th>4</th>\n",
              "      <td>2018-01-01 00:05:03</td>\n",
              "      <td>read</td>\n",
              "      <td>country_8</td>\n",
              "      <td>2.458151e+09</td>\n",
              "      <td>Reddit</td>\n",
              "      <td>North America</td>\n",
              "    </tr>\n",
              "    <tr>\n",
              "      <th>...</th>\n",
              "      <td>...</td>\n",
              "      <td>...</td>\n",
              "      <td>...</td>\n",
              "      <td>...</td>\n",
              "      <td>...</td>\n",
              "      <td>...</td>\n",
              "    </tr>\n",
              "    <tr>\n",
              "      <th>597897</th>\n",
              "      <td>2018-03-31 04:34:32</td>\n",
              "      <td>read</td>\n",
              "      <td>country_4</td>\n",
              "      <td>2.458361e+09</td>\n",
              "      <td>Africa</td>\n",
              "      <td>NaN</td>\n",
              "    </tr>\n",
              "    <tr>\n",
              "      <th>597898</th>\n",
              "      <td>2018-03-31 05:02:06</td>\n",
              "      <td>read</td>\n",
              "      <td>country_6</td>\n",
              "      <td>2.458361e+09</td>\n",
              "      <td>Asia</td>\n",
              "      <td>NaN</td>\n",
              "    </tr>\n",
              "    <tr>\n",
              "      <th>597899</th>\n",
              "      <td>2018-03-31 05:02:14</td>\n",
              "      <td>read</td>\n",
              "      <td>country_7</td>\n",
              "      <td>2.458361e+09</td>\n",
              "      <td>North America</td>\n",
              "      <td>NaN</td>\n",
              "    </tr>\n",
              "    <tr>\n",
              "      <th>597900</th>\n",
              "      <td>2018-03-31 05:03:53</td>\n",
              "      <td>read</td>\n",
              "      <td>country_7</td>\n",
              "      <td>2.458361e+09</td>\n",
              "      <td>Europe</td>\n",
              "      <td>NaN</td>\n",
              "    </tr>\n",
              "    <tr>\n",
              "      <th>597901</th>\n",
              "      <td>2018-03-31 05:04:50</td>\n",
              "      <td>read</td>\n",
              "      <td>country_4</td>\n",
              "      <td>2.458361e+09</td>\n",
              "      <td>Africa</td>\n",
              "      <td>NaN</td>\n",
              "    </tr>\n",
              "  </tbody>\n",
              "</table>\n",
              "<p>597902 rows × 6 columns</p>\n",
              "</div>"
            ],
            "text/plain": [
              "                   datetime event_type  ...         source          topic\n",
              "0       2018-01-01 00:01:01       read  ...            SEO  North America\n",
              "1       2018-01-01 00:03:20       read  ...            SEO  South America\n",
              "2       2018-01-01 00:04:01       read  ...        AdWords         Africa\n",
              "3       2018-01-01 00:04:02       read  ...        AdWords         Europe\n",
              "4       2018-01-01 00:05:03       read  ...         Reddit  North America\n",
              "...                     ...        ...  ...            ...            ...\n",
              "597897  2018-03-31 04:34:32       read  ...         Africa            NaN\n",
              "597898  2018-03-31 05:02:06       read  ...           Asia            NaN\n",
              "597899  2018-03-31 05:02:14       read  ...  North America            NaN\n",
              "597900  2018-03-31 05:03:53       read  ...         Europe            NaN\n",
              "597901  2018-03-31 05:04:50       read  ...         Africa            NaN\n",
              "\n",
              "[597902 rows x 6 columns]"
            ]
          },
          "metadata": {
            "tags": []
          },
          "execution_count": 5
        }
      ]
    },
    {
      "cell_type": "code",
      "metadata": {
        "id": "qSch7Abg8jj2"
      },
      "source": [
        "dilans = pd.read_csv('dilans_data.csv' , delimiter= ';', names = ['datetime','event_type','country','user_id','source','topic'])"
      ],
      "execution_count": null,
      "outputs": []
    },
    {
      "cell_type": "markdown",
      "metadata": {
        "id": "uNjKWZY54oQR"
      },
      "source": [
        "Filtering all the Readers"
      ]
    },
    {
      "cell_type": "code",
      "metadata": {
        "colab": {
          "base_uri": "https://localhost:8080/",
          "height": 406
        },
        "id": "diI-D7bnvOhK",
        "outputId": "aaadbc00-b157-4f16-8f2f-c68d4d2b0389"
      },
      "source": [
        "dilans[dilans.event_type == 'read']"
      ],
      "execution_count": null,
      "outputs": [
        {
          "output_type": "execute_result",
          "data": {
            "text/html": [
              "<div>\n",
              "<style scoped>\n",
              "    .dataframe tbody tr th:only-of-type {\n",
              "        vertical-align: middle;\n",
              "    }\n",
              "\n",
              "    .dataframe tbody tr th {\n",
              "        vertical-align: top;\n",
              "    }\n",
              "\n",
              "    .dataframe thead th {\n",
              "        text-align: right;\n",
              "    }\n",
              "</style>\n",
              "<table border=\"1\" class=\"dataframe\">\n",
              "  <thead>\n",
              "    <tr style=\"text-align: right;\">\n",
              "      <th></th>\n",
              "      <th>datetime</th>\n",
              "      <th>event_type</th>\n",
              "      <th>country</th>\n",
              "      <th>user_id</th>\n",
              "      <th>source</th>\n",
              "      <th>topic</th>\n",
              "    </tr>\n",
              "  </thead>\n",
              "  <tbody>\n",
              "    <tr>\n",
              "      <th>0</th>\n",
              "      <td>2018-01-01 00:01:01</td>\n",
              "      <td>read</td>\n",
              "      <td>country_7</td>\n",
              "      <td>2.458151e+09</td>\n",
              "      <td>SEO</td>\n",
              "      <td>North America</td>\n",
              "    </tr>\n",
              "    <tr>\n",
              "      <th>1</th>\n",
              "      <td>2018-01-01 00:03:20</td>\n",
              "      <td>read</td>\n",
              "      <td>country_7</td>\n",
              "      <td>2.458151e+09</td>\n",
              "      <td>SEO</td>\n",
              "      <td>South America</td>\n",
              "    </tr>\n",
              "    <tr>\n",
              "      <th>2</th>\n",
              "      <td>2018-01-01 00:04:01</td>\n",
              "      <td>read</td>\n",
              "      <td>country_7</td>\n",
              "      <td>2.458151e+09</td>\n",
              "      <td>AdWords</td>\n",
              "      <td>Africa</td>\n",
              "    </tr>\n",
              "    <tr>\n",
              "      <th>3</th>\n",
              "      <td>2018-01-01 00:04:02</td>\n",
              "      <td>read</td>\n",
              "      <td>country_7</td>\n",
              "      <td>2.458151e+09</td>\n",
              "      <td>AdWords</td>\n",
              "      <td>Europe</td>\n",
              "    </tr>\n",
              "    <tr>\n",
              "      <th>4</th>\n",
              "      <td>2018-01-01 00:05:03</td>\n",
              "      <td>read</td>\n",
              "      <td>country_8</td>\n",
              "      <td>2.458151e+09</td>\n",
              "      <td>Reddit</td>\n",
              "      <td>North America</td>\n",
              "    </tr>\n",
              "    <tr>\n",
              "      <th>...</th>\n",
              "      <td>...</td>\n",
              "      <td>...</td>\n",
              "      <td>...</td>\n",
              "      <td>...</td>\n",
              "      <td>...</td>\n",
              "      <td>...</td>\n",
              "    </tr>\n",
              "    <tr>\n",
              "      <th>597897</th>\n",
              "      <td>2018-03-31 04:34:32</td>\n",
              "      <td>read</td>\n",
              "      <td>country_4</td>\n",
              "      <td>2.458361e+09</td>\n",
              "      <td>Africa</td>\n",
              "      <td>NaN</td>\n",
              "    </tr>\n",
              "    <tr>\n",
              "      <th>597898</th>\n",
              "      <td>2018-03-31 05:02:06</td>\n",
              "      <td>read</td>\n",
              "      <td>country_6</td>\n",
              "      <td>2.458361e+09</td>\n",
              "      <td>Asia</td>\n",
              "      <td>NaN</td>\n",
              "    </tr>\n",
              "    <tr>\n",
              "      <th>597899</th>\n",
              "      <td>2018-03-31 05:02:14</td>\n",
              "      <td>read</td>\n",
              "      <td>country_7</td>\n",
              "      <td>2.458361e+09</td>\n",
              "      <td>North America</td>\n",
              "      <td>NaN</td>\n",
              "    </tr>\n",
              "    <tr>\n",
              "      <th>597900</th>\n",
              "      <td>2018-03-31 05:03:53</td>\n",
              "      <td>read</td>\n",
              "      <td>country_7</td>\n",
              "      <td>2.458361e+09</td>\n",
              "      <td>Europe</td>\n",
              "      <td>NaN</td>\n",
              "    </tr>\n",
              "    <tr>\n",
              "      <th>597901</th>\n",
              "      <td>2018-03-31 05:04:50</td>\n",
              "      <td>read</td>\n",
              "      <td>country_4</td>\n",
              "      <td>2.458361e+09</td>\n",
              "      <td>Africa</td>\n",
              "      <td>NaN</td>\n",
              "    </tr>\n",
              "  </tbody>\n",
              "</table>\n",
              "<p>581877 rows × 6 columns</p>\n",
              "</div>"
            ],
            "text/plain": [
              "                   datetime event_type  ...         source          topic\n",
              "0       2018-01-01 00:01:01       read  ...            SEO  North America\n",
              "1       2018-01-01 00:03:20       read  ...            SEO  South America\n",
              "2       2018-01-01 00:04:01       read  ...        AdWords         Africa\n",
              "3       2018-01-01 00:04:02       read  ...        AdWords         Europe\n",
              "4       2018-01-01 00:05:03       read  ...         Reddit  North America\n",
              "...                     ...        ...  ...            ...            ...\n",
              "597897  2018-03-31 04:34:32       read  ...         Africa            NaN\n",
              "597898  2018-03-31 05:02:06       read  ...           Asia            NaN\n",
              "597899  2018-03-31 05:02:14       read  ...  North America            NaN\n",
              "597900  2018-03-31 05:03:53       read  ...         Europe            NaN\n",
              "597901  2018-03-31 05:04:50       read  ...         Africa            NaN\n",
              "\n",
              "[581877 rows x 6 columns]"
            ]
          },
          "metadata": {
            "tags": []
          },
          "execution_count": 7
        }
      ]
    },
    {
      "cell_type": "code",
      "metadata": {
        "id": "kmfDYr2rvPr0"
      },
      "source": [
        "readers = dilans[dilans.event_type == 'read']"
      ],
      "execution_count": null,
      "outputs": []
    },
    {
      "cell_type": "code",
      "metadata": {
        "colab": {
          "base_uri": "https://localhost:8080/"
        },
        "id": "OXNGH4bovu5h",
        "outputId": "0255ebc4-0c27-4f3e-de10-45d86482eb9f"
      },
      "source": [
        "readers.groupby('country')"
      ],
      "execution_count": null,
      "outputs": [
        {
          "output_type": "execute_result",
          "data": {
            "text/plain": [
              "<pandas.core.groupby.generic.DataFrameGroupBy object at 0x7f5cc2ddcdd0>"
            ]
          },
          "metadata": {
            "tags": []
          },
          "execution_count": 9
        }
      ]
    },
    {
      "cell_type": "markdown",
      "metadata": {
        "id": "7blLBSzo4xVJ"
      },
      "source": [
        "All Readers by Country"
      ]
    },
    {
      "cell_type": "code",
      "metadata": {
        "colab": {
          "base_uri": "https://localhost:8080/",
          "height": 317
        },
        "id": "pK606XB3v16E",
        "outputId": "18a28bbd-fbde-4765-8c25-9a686b5f561a"
      },
      "source": [
        "readers.groupby('country').count()"
      ],
      "execution_count": null,
      "outputs": [
        {
          "output_type": "execute_result",
          "data": {
            "text/html": [
              "<div>\n",
              "<style scoped>\n",
              "    .dataframe tbody tr th:only-of-type {\n",
              "        vertical-align: middle;\n",
              "    }\n",
              "\n",
              "    .dataframe tbody tr th {\n",
              "        vertical-align: top;\n",
              "    }\n",
              "\n",
              "    .dataframe thead th {\n",
              "        text-align: right;\n",
              "    }\n",
              "</style>\n",
              "<table border=\"1\" class=\"dataframe\">\n",
              "  <thead>\n",
              "    <tr style=\"text-align: right;\">\n",
              "      <th></th>\n",
              "      <th>datetime</th>\n",
              "      <th>event_type</th>\n",
              "      <th>user_id</th>\n",
              "      <th>source</th>\n",
              "      <th>topic</th>\n",
              "    </tr>\n",
              "    <tr>\n",
              "      <th>country</th>\n",
              "      <th></th>\n",
              "      <th></th>\n",
              "      <th></th>\n",
              "      <th></th>\n",
              "      <th></th>\n",
              "    </tr>\n",
              "  </thead>\n",
              "  <tbody>\n",
              "    <tr>\n",
              "      <th>country_1</th>\n",
              "      <td>6231</td>\n",
              "      <td>6231</td>\n",
              "      <td>6231</td>\n",
              "      <td>6231</td>\n",
              "      <td>5076</td>\n",
              "    </tr>\n",
              "    <tr>\n",
              "      <th>country_2</th>\n",
              "      <td>130076</td>\n",
              "      <td>130076</td>\n",
              "      <td>130076</td>\n",
              "      <td>130076</td>\n",
              "      <td>50675</td>\n",
              "    </tr>\n",
              "    <tr>\n",
              "      <th>country_3</th>\n",
              "      <td>9128</td>\n",
              "      <td>9128</td>\n",
              "      <td>9128</td>\n",
              "      <td>9128</td>\n",
              "      <td>2742</td>\n",
              "    </tr>\n",
              "    <tr>\n",
              "      <th>country_4</th>\n",
              "      <td>71258</td>\n",
              "      <td>71258</td>\n",
              "      <td>71258</td>\n",
              "      <td>71258</td>\n",
              "      <td>12751</td>\n",
              "    </tr>\n",
              "    <tr>\n",
              "      <th>country_5</th>\n",
              "      <td>149732</td>\n",
              "      <td>149732</td>\n",
              "      <td>149732</td>\n",
              "      <td>149732</td>\n",
              "      <td>40349</td>\n",
              "    </tr>\n",
              "    <tr>\n",
              "      <th>country_6</th>\n",
              "      <td>63752</td>\n",
              "      <td>63752</td>\n",
              "      <td>63752</td>\n",
              "      <td>63752</td>\n",
              "      <td>31156</td>\n",
              "    </tr>\n",
              "    <tr>\n",
              "      <th>country_7</th>\n",
              "      <td>132067</td>\n",
              "      <td>132067</td>\n",
              "      <td>132067</td>\n",
              "      <td>132067</td>\n",
              "      <td>51791</td>\n",
              "    </tr>\n",
              "    <tr>\n",
              "      <th>country_8</th>\n",
              "      <td>19633</td>\n",
              "      <td>19633</td>\n",
              "      <td>19633</td>\n",
              "      <td>19633</td>\n",
              "      <td>15483</td>\n",
              "    </tr>\n",
              "  </tbody>\n",
              "</table>\n",
              "</div>"
            ],
            "text/plain": [
              "           datetime  event_type  user_id  source  topic\n",
              "country                                                \n",
              "country_1      6231        6231     6231    6231   5076\n",
              "country_2    130076      130076   130076  130076  50675\n",
              "country_3      9128        9128     9128    9128   2742\n",
              "country_4     71258       71258    71258   71258  12751\n",
              "country_5    149732      149732   149732  149732  40349\n",
              "country_6     63752       63752    63752   63752  31156\n",
              "country_7    132067      132067   132067  132067  51791\n",
              "country_8     19633       19633    19633   19633  15483"
            ]
          },
          "metadata": {
            "tags": []
          },
          "execution_count": 10
        }
      ]
    },
    {
      "cell_type": "code",
      "metadata": {
        "id": "8k0AASPPv6Y6"
      },
      "source": [
        "countries = readers.groupby('country').count()"
      ],
      "execution_count": null,
      "outputs": []
    },
    {
      "cell_type": "code",
      "metadata": {
        "colab": {
          "base_uri": "https://localhost:8080/",
          "height": 317
        },
        "id": "lvfb94BSwK8h",
        "outputId": "9b9f957d-34bc-4ce2-f115-29ec8f73d35a"
      },
      "source": [
        "countries.drop(columns = ['source','topic','datetime','event_type'])"
      ],
      "execution_count": null,
      "outputs": [
        {
          "output_type": "execute_result",
          "data": {
            "text/html": [
              "<div>\n",
              "<style scoped>\n",
              "    .dataframe tbody tr th:only-of-type {\n",
              "        vertical-align: middle;\n",
              "    }\n",
              "\n",
              "    .dataframe tbody tr th {\n",
              "        vertical-align: top;\n",
              "    }\n",
              "\n",
              "    .dataframe thead th {\n",
              "        text-align: right;\n",
              "    }\n",
              "</style>\n",
              "<table border=\"1\" class=\"dataframe\">\n",
              "  <thead>\n",
              "    <tr style=\"text-align: right;\">\n",
              "      <th></th>\n",
              "      <th>user_id</th>\n",
              "    </tr>\n",
              "    <tr>\n",
              "      <th>country</th>\n",
              "      <th></th>\n",
              "    </tr>\n",
              "  </thead>\n",
              "  <tbody>\n",
              "    <tr>\n",
              "      <th>country_1</th>\n",
              "      <td>6231</td>\n",
              "    </tr>\n",
              "    <tr>\n",
              "      <th>country_2</th>\n",
              "      <td>130076</td>\n",
              "    </tr>\n",
              "    <tr>\n",
              "      <th>country_3</th>\n",
              "      <td>9128</td>\n",
              "    </tr>\n",
              "    <tr>\n",
              "      <th>country_4</th>\n",
              "      <td>71258</td>\n",
              "    </tr>\n",
              "    <tr>\n",
              "      <th>country_5</th>\n",
              "      <td>149732</td>\n",
              "    </tr>\n",
              "    <tr>\n",
              "      <th>country_6</th>\n",
              "      <td>63752</td>\n",
              "    </tr>\n",
              "    <tr>\n",
              "      <th>country_7</th>\n",
              "      <td>132067</td>\n",
              "    </tr>\n",
              "    <tr>\n",
              "      <th>country_8</th>\n",
              "      <td>19633</td>\n",
              "    </tr>\n",
              "  </tbody>\n",
              "</table>\n",
              "</div>"
            ],
            "text/plain": [
              "           user_id\n",
              "country           \n",
              "country_1     6231\n",
              "country_2   130076\n",
              "country_3     9128\n",
              "country_4    71258\n",
              "country_5   149732\n",
              "country_6    63752\n",
              "country_7   132067\n",
              "country_8    19633"
            ]
          },
          "metadata": {
            "tags": []
          },
          "execution_count": 12
        }
      ]
    },
    {
      "cell_type": "code",
      "metadata": {
        "id": "cdfDpXA5wP5D"
      },
      "source": [
        "countries_graph = countries.drop(columns = ['source','topic','datetime','event_type'])"
      ],
      "execution_count": null,
      "outputs": []
    },
    {
      "cell_type": "markdown",
      "metadata": {
        "id": "eH-AU69w44Mq"
      },
      "source": [
        "Graphical Representation of all the users by Country"
      ]
    },
    {
      "cell_type": "code",
      "metadata": {
        "colab": {
          "base_uri": "https://localhost:8080/",
          "height": 334
        },
        "id": "wleO-EA5wVnG",
        "outputId": "c758453f-4fa8-49ac-de4f-8e69c1da6a5a"
      },
      "source": [
        "countries_graph.plot.bar()\n",
        "plt.ylabel('Total Count')\n",
        "plt.title('Total Count for all countries')\n",
        "plt.show()"
      ],
      "execution_count": null,
      "outputs": [
        {
          "output_type": "display_data",
          "data": {
            "image/png": "[encoded data removed]",
            "text/plain": [
              "<Figure size 432x288 with 1 Axes>"
            ]
          },
          "metadata": {
            "tags": [],
            "needs_background": "light"
          }
        }
      ]
    },
    {
      "cell_type": "markdown",
      "metadata": {
        "id": "cIhtecUW5Be0"
      },
      "source": [
        "Filtering First time Readers"
      ]
    },
    {
      "cell_type": "code",
      "metadata": {
        "colab": {
          "base_uri": "https://localhost:8080/",
          "height": 406
        },
        "id": "NyefUhTgwbIn",
        "outputId": "a3b7e1c6-f2f7-4430-c025-6209a0f38f41"
      },
      "source": [
        "readers.dropna()"
      ],
      "execution_count": null,
      "outputs": [
        {
          "output_type": "execute_result",
          "data": {
            "text/html": [
              "<div>\n",
              "<style scoped>\n",
              "    .dataframe tbody tr th:only-of-type {\n",
              "        vertical-align: middle;\n",
              "    }\n",
              "\n",
              "    .dataframe tbody tr th {\n",
              "        vertical-align: top;\n",
              "    }\n",
              "\n",
              "    .dataframe thead th {\n",
              "        text-align: right;\n",
              "    }\n",
              "</style>\n",
              "<table border=\"1\" class=\"dataframe\">\n",
              "  <thead>\n",
              "    <tr style=\"text-align: right;\">\n",
              "      <th></th>\n",
              "      <th>datetime</th>\n",
              "      <th>event_type</th>\n",
              "      <th>country</th>\n",
              "      <th>user_id</th>\n",
              "      <th>source</th>\n",
              "      <th>topic</th>\n",
              "    </tr>\n",
              "  </thead>\n",
              "  <tbody>\n",
              "    <tr>\n",
              "      <th>0</th>\n",
              "      <td>2018-01-01 00:01:01</td>\n",
              "      <td>read</td>\n",
              "      <td>country_7</td>\n",
              "      <td>2.458151e+09</td>\n",
              "      <td>SEO</td>\n",
              "      <td>North America</td>\n",
              "    </tr>\n",
              "    <tr>\n",
              "      <th>1</th>\n",
              "      <td>2018-01-01 00:03:20</td>\n",
              "      <td>read</td>\n",
              "      <td>country_7</td>\n",
              "      <td>2.458151e+09</td>\n",
              "      <td>SEO</td>\n",
              "      <td>South America</td>\n",
              "    </tr>\n",
              "    <tr>\n",
              "      <th>2</th>\n",
              "      <td>2018-01-01 00:04:01</td>\n",
              "      <td>read</td>\n",
              "      <td>country_7</td>\n",
              "      <td>2.458151e+09</td>\n",
              "      <td>AdWords</td>\n",
              "      <td>Africa</td>\n",
              "    </tr>\n",
              "    <tr>\n",
              "      <th>3</th>\n",
              "      <td>2018-01-01 00:04:02</td>\n",
              "      <td>read</td>\n",
              "      <td>country_7</td>\n",
              "      <td>2.458151e+09</td>\n",
              "      <td>AdWords</td>\n",
              "      <td>Europe</td>\n",
              "    </tr>\n",
              "    <tr>\n",
              "      <th>4</th>\n",
              "      <td>2018-01-01 00:05:03</td>\n",
              "      <td>read</td>\n",
              "      <td>country_8</td>\n",
              "      <td>2.458151e+09</td>\n",
              "      <td>Reddit</td>\n",
              "      <td>North America</td>\n",
              "    </tr>\n",
              "    <tr>\n",
              "      <th>...</th>\n",
              "      <td>...</td>\n",
              "      <td>...</td>\n",
              "      <td>...</td>\n",
              "      <td>...</td>\n",
              "      <td>...</td>\n",
              "      <td>...</td>\n",
              "    </tr>\n",
              "    <tr>\n",
              "      <th>597756</th>\n",
              "      <td>2018-03-30 23:57:06</td>\n",
              "      <td>read</td>\n",
              "      <td>country_1</td>\n",
              "      <td>2.458361e+09</td>\n",
              "      <td>SEO</td>\n",
              "      <td>North America</td>\n",
              "    </tr>\n",
              "    <tr>\n",
              "      <th>597760</th>\n",
              "      <td>2018-03-30 23:58:54</td>\n",
              "      <td>read</td>\n",
              "      <td>country_6</td>\n",
              "      <td>2.458361e+09</td>\n",
              "      <td>AdWords</td>\n",
              "      <td>Asia</td>\n",
              "    </tr>\n",
              "    <tr>\n",
              "      <th>597763</th>\n",
              "      <td>2018-03-30 23:59:13</td>\n",
              "      <td>read</td>\n",
              "      <td>country_8</td>\n",
              "      <td>2.458361e+09</td>\n",
              "      <td>AdWords</td>\n",
              "      <td>Europe</td>\n",
              "    </tr>\n",
              "    <tr>\n",
              "      <th>597767</th>\n",
              "      <td>2018-03-30 23:59:40</td>\n",
              "      <td>read</td>\n",
              "      <td>country_5</td>\n",
              "      <td>2.458361e+09</td>\n",
              "      <td>AdWords</td>\n",
              "      <td>Europe</td>\n",
              "    </tr>\n",
              "    <tr>\n",
              "      <th>597769</th>\n",
              "      <td>2018-03-30 23:59:56</td>\n",
              "      <td>read</td>\n",
              "      <td>country_5</td>\n",
              "      <td>2.458361e+09</td>\n",
              "      <td>Reddit</td>\n",
              "      <td>Asia</td>\n",
              "    </tr>\n",
              "  </tbody>\n",
              "</table>\n",
              "<p>210023 rows × 6 columns</p>\n",
              "</div>"
            ],
            "text/plain": [
              "                   datetime event_type  ...   source          topic\n",
              "0       2018-01-01 00:01:01       read  ...      SEO  North America\n",
              "1       2018-01-01 00:03:20       read  ...      SEO  South America\n",
              "2       2018-01-01 00:04:01       read  ...  AdWords         Africa\n",
              "3       2018-01-01 00:04:02       read  ...  AdWords         Europe\n",
              "4       2018-01-01 00:05:03       read  ...   Reddit  North America\n",
              "...                     ...        ...  ...      ...            ...\n",
              "597756  2018-03-30 23:57:06       read  ...      SEO  North America\n",
              "597760  2018-03-30 23:58:54       read  ...  AdWords           Asia\n",
              "597763  2018-03-30 23:59:13       read  ...  AdWords         Europe\n",
              "597767  2018-03-30 23:59:40       read  ...  AdWords         Europe\n",
              "597769  2018-03-30 23:59:56       read  ...   Reddit           Asia\n",
              "\n",
              "[210023 rows x 6 columns]"
            ]
          },
          "metadata": {
            "tags": []
          },
          "execution_count": 15
        }
      ]
    },
    {
      "cell_type": "code",
      "metadata": {
        "id": "sQAdqF3Vw2wV"
      },
      "source": [
        "first_readers = readers.dropna()"
      ],
      "execution_count": null,
      "outputs": []
    },
    {
      "cell_type": "code",
      "metadata": {
        "colab": {
          "base_uri": "https://localhost:8080/",
          "height": 317
        },
        "id": "pibqac1Dw99h",
        "outputId": "f49d4500-6975-4a56-b493-cee36f6d0950"
      },
      "source": [
        "first_readers.groupby('country').count()"
      ],
      "execution_count": null,
      "outputs": [
        {
          "output_type": "execute_result",
          "data": {
            "text/html": [
              "<div>\n",
              "<style scoped>\n",
              "    .dataframe tbody tr th:only-of-type {\n",
              "        vertical-align: middle;\n",
              "    }\n",
              "\n",
              "    .dataframe tbody tr th {\n",
              "        vertical-align: top;\n",
              "    }\n",
              "\n",
              "    .dataframe thead th {\n",
              "        text-align: right;\n",
              "    }\n",
              "</style>\n",
              "<table border=\"1\" class=\"dataframe\">\n",
              "  <thead>\n",
              "    <tr style=\"text-align: right;\">\n",
              "      <th></th>\n",
              "      <th>datetime</th>\n",
              "      <th>event_type</th>\n",
              "      <th>user_id</th>\n",
              "      <th>source</th>\n",
              "      <th>topic</th>\n",
              "    </tr>\n",
              "    <tr>\n",
              "      <th>country</th>\n",
              "      <th></th>\n",
              "      <th></th>\n",
              "      <th></th>\n",
              "      <th></th>\n",
              "      <th></th>\n",
              "    </tr>\n",
              "  </thead>\n",
              "  <tbody>\n",
              "    <tr>\n",
              "      <th>country_1</th>\n",
              "      <td>5076</td>\n",
              "      <td>5076</td>\n",
              "      <td>5076</td>\n",
              "      <td>5076</td>\n",
              "      <td>5076</td>\n",
              "    </tr>\n",
              "    <tr>\n",
              "      <th>country_2</th>\n",
              "      <td>50675</td>\n",
              "      <td>50675</td>\n",
              "      <td>50675</td>\n",
              "      <td>50675</td>\n",
              "      <td>50675</td>\n",
              "    </tr>\n",
              "    <tr>\n",
              "      <th>country_3</th>\n",
              "      <td>2742</td>\n",
              "      <td>2742</td>\n",
              "      <td>2742</td>\n",
              "      <td>2742</td>\n",
              "      <td>2742</td>\n",
              "    </tr>\n",
              "    <tr>\n",
              "      <th>country_4</th>\n",
              "      <td>12751</td>\n",
              "      <td>12751</td>\n",
              "      <td>12751</td>\n",
              "      <td>12751</td>\n",
              "      <td>12751</td>\n",
              "    </tr>\n",
              "    <tr>\n",
              "      <th>country_5</th>\n",
              "      <td>40349</td>\n",
              "      <td>40349</td>\n",
              "      <td>40349</td>\n",
              "      <td>40349</td>\n",
              "      <td>40349</td>\n",
              "    </tr>\n",
              "    <tr>\n",
              "      <th>country_6</th>\n",
              "      <td>31156</td>\n",
              "      <td>31156</td>\n",
              "      <td>31156</td>\n",
              "      <td>31156</td>\n",
              "      <td>31156</td>\n",
              "    </tr>\n",
              "    <tr>\n",
              "      <th>country_7</th>\n",
              "      <td>51791</td>\n",
              "      <td>51791</td>\n",
              "      <td>51791</td>\n",
              "      <td>51791</td>\n",
              "      <td>51791</td>\n",
              "    </tr>\n",
              "    <tr>\n",
              "      <th>country_8</th>\n",
              "      <td>15483</td>\n",
              "      <td>15483</td>\n",
              "      <td>15483</td>\n",
              "      <td>15483</td>\n",
              "      <td>15483</td>\n",
              "    </tr>\n",
              "  </tbody>\n",
              "</table>\n",
              "</div>"
            ],
            "text/plain": [
              "           datetime  event_type  user_id  source  topic\n",
              "country                                                \n",
              "country_1      5076        5076     5076    5076   5076\n",
              "country_2     50675       50675    50675   50675  50675\n",
              "country_3      2742        2742     2742    2742   2742\n",
              "country_4     12751       12751    12751   12751  12751\n",
              "country_5     40349       40349    40349   40349  40349\n",
              "country_6     31156       31156    31156   31156  31156\n",
              "country_7     51791       51791    51791   51791  51791\n",
              "country_8     15483       15483    15483   15483  15483"
            ]
          },
          "metadata": {
            "tags": []
          },
          "execution_count": 17
        }
      ]
    },
    {
      "cell_type": "code",
      "metadata": {
        "id": "d_7ZviUJxCfO"
      },
      "source": [
        "firstreaders = first_readers.groupby('country').count()"
      ],
      "execution_count": null,
      "outputs": []
    },
    {
      "cell_type": "code",
      "metadata": {
        "colab": {
          "base_uri": "https://localhost:8080/",
          "height": 317
        },
        "id": "Aq4cwbi5xIbc",
        "outputId": "91720928-a822-491e-afb7-bb24a2c077ee"
      },
      "source": [
        "firstreaders.drop(columns = ['source','topic','datetime','event_type'])"
      ],
      "execution_count": null,
      "outputs": [
        {
          "output_type": "execute_result",
          "data": {
            "text/html": [
              "<div>\n",
              "<style scoped>\n",
              "    .dataframe tbody tr th:only-of-type {\n",
              "        vertical-align: middle;\n",
              "    }\n",
              "\n",
              "    .dataframe tbody tr th {\n",
              "        vertical-align: top;\n",
              "    }\n",
              "\n",
              "    .dataframe thead th {\n",
              "        text-align: right;\n",
              "    }\n",
              "</style>\n",
              "<table border=\"1\" class=\"dataframe\">\n",
              "  <thead>\n",
              "    <tr style=\"text-align: right;\">\n",
              "      <th></th>\n",
              "      <th>user_id</th>\n",
              "    </tr>\n",
              "    <tr>\n",
              "      <th>country</th>\n",
              "      <th></th>\n",
              "    </tr>\n",
              "  </thead>\n",
              "  <tbody>\n",
              "    <tr>\n",
              "      <th>country_1</th>\n",
              "      <td>5076</td>\n",
              "    </tr>\n",
              "    <tr>\n",
              "      <th>country_2</th>\n",
              "      <td>50675</td>\n",
              "    </tr>\n",
              "    <tr>\n",
              "      <th>country_3</th>\n",
              "      <td>2742</td>\n",
              "    </tr>\n",
              "    <tr>\n",
              "      <th>country_4</th>\n",
              "      <td>12751</td>\n",
              "    </tr>\n",
              "    <tr>\n",
              "      <th>country_5</th>\n",
              "      <td>40349</td>\n",
              "    </tr>\n",
              "    <tr>\n",
              "      <th>country_6</th>\n",
              "      <td>31156</td>\n",
              "    </tr>\n",
              "    <tr>\n",
              "      <th>country_7</th>\n",
              "      <td>51791</td>\n",
              "    </tr>\n",
              "    <tr>\n",
              "      <th>country_8</th>\n",
              "      <td>15483</td>\n",
              "    </tr>\n",
              "  </tbody>\n",
              "</table>\n",
              "</div>"
            ],
            "text/plain": [
              "           user_id\n",
              "country           \n",
              "country_1     5076\n",
              "country_2    50675\n",
              "country_3     2742\n",
              "country_4    12751\n",
              "country_5    40349\n",
              "country_6    31156\n",
              "country_7    51791\n",
              "country_8    15483"
            ]
          },
          "metadata": {
            "tags": []
          },
          "execution_count": 19
        }
      ]
    },
    {
      "cell_type": "code",
      "metadata": {
        "id": "eXf1-COoxN_L"
      },
      "source": [
        "freaders = firstreaders.drop(columns = ['source','topic','datetime','event_type'])"
      ],
      "execution_count": null,
      "outputs": []
    },
    {
      "cell_type": "code",
      "metadata": {
        "colab": {
          "base_uri": "https://localhost:8080/",
          "height": 334
        },
        "id": "sqBhI6KyxWNA",
        "outputId": "32aebfe3-23c9-44c6-d25e-bcf8238e0b18"
      },
      "source": [
        "freaders.plot.bar()\n",
        "plt.ylabel('Total Count')\n",
        "plt.title('Total Count for first readers by countries')\n",
        "plt.show()"
      ],
      "execution_count": null,
      "outputs": [
        {
          "output_type": "display_data",
          "data": {
            "image/png": "[encoded data removed]",
            "text/plain": [
              "<Figure size 432x288 with 1 Axes>"
            ]
          },
          "metadata": {
            "tags": [],
            "needs_background": "light"
          }
        }
      ]
    },
    {
      "cell_type": "markdown",
      "metadata": {
        "id": "__cLHDFf5YUD"
      },
      "source": [
        "Filtering First-time Readers by Source"
      ]
    },
    {
      "cell_type": "code",
      "metadata": {
        "colab": {
          "base_uri": "https://localhost:8080/",
          "height": 167
        },
        "id": "S08IhVQGxb1J",
        "outputId": "34da66f4-c197-4d2a-912a-161da51e27a4"
      },
      "source": [
        "first_readers.groupby('source').count()"
      ],
      "execution_count": null,
      "outputs": [
        {
          "output_type": "execute_result",
          "data": {
            "text/html": [
              "<div>\n",
              "<style scoped>\n",
              "    .dataframe tbody tr th:only-of-type {\n",
              "        vertical-align: middle;\n",
              "    }\n",
              "\n",
              "    .dataframe tbody tr th {\n",
              "        vertical-align: top;\n",
              "    }\n",
              "\n",
              "    .dataframe thead th {\n",
              "        text-align: right;\n",
              "    }\n",
              "</style>\n",
              "<table border=\"1\" class=\"dataframe\">\n",
              "  <thead>\n",
              "    <tr style=\"text-align: right;\">\n",
              "      <th></th>\n",
              "      <th>datetime</th>\n",
              "      <th>event_type</th>\n",
              "      <th>country</th>\n",
              "      <th>user_id</th>\n",
              "      <th>topic</th>\n",
              "    </tr>\n",
              "    <tr>\n",
              "      <th>source</th>\n",
              "      <th></th>\n",
              "      <th></th>\n",
              "      <th></th>\n",
              "      <th></th>\n",
              "      <th></th>\n",
              "    </tr>\n",
              "  </thead>\n",
              "  <tbody>\n",
              "    <tr>\n",
              "      <th>AdWords</th>\n",
              "      <td>63065</td>\n",
              "      <td>63065</td>\n",
              "      <td>63065</td>\n",
              "      <td>63065</td>\n",
              "      <td>63065</td>\n",
              "    </tr>\n",
              "    <tr>\n",
              "      <th>Reddit</th>\n",
              "      <td>105216</td>\n",
              "      <td>105216</td>\n",
              "      <td>105216</td>\n",
              "      <td>105216</td>\n",
              "      <td>105216</td>\n",
              "    </tr>\n",
              "    <tr>\n",
              "      <th>SEO</th>\n",
              "      <td>41742</td>\n",
              "      <td>41742</td>\n",
              "      <td>41742</td>\n",
              "      <td>41742</td>\n",
              "      <td>41742</td>\n",
              "    </tr>\n",
              "  </tbody>\n",
              "</table>\n",
              "</div>"
            ],
            "text/plain": [
              "         datetime  event_type  country  user_id   topic\n",
              "source                                                 \n",
              "AdWords     63065       63065    63065    63065   63065\n",
              "Reddit     105216      105216   105216   105216  105216\n",
              "SEO         41742       41742    41742    41742   41742"
            ]
          },
          "metadata": {
            "tags": []
          },
          "execution_count": 22
        }
      ]
    },
    {
      "cell_type": "code",
      "metadata": {
        "id": "5Glw9XkvxhkJ"
      },
      "source": [
        "source = first_readers.groupby('source').count()"
      ],
      "execution_count": null,
      "outputs": []
    },
    {
      "cell_type": "code",
      "metadata": {
        "colab": {
          "base_uri": "https://localhost:8080/",
          "height": 167
        },
        "id": "U-4xguAKxvBH",
        "outputId": "72eab19b-e611-4655-f06e-5125fddced72"
      },
      "source": [
        "source.drop(columns = ['datetime','topic','country','event_type'])"
      ],
      "execution_count": null,
      "outputs": [
        {
          "output_type": "execute_result",
          "data": {
            "text/html": [
              "<div>\n",
              "<style scoped>\n",
              "    .dataframe tbody tr th:only-of-type {\n",
              "        vertical-align: middle;\n",
              "    }\n",
              "\n",
              "    .dataframe tbody tr th {\n",
              "        vertical-align: top;\n",
              "    }\n",
              "\n",
              "    .dataframe thead th {\n",
              "        text-align: right;\n",
              "    }\n",
              "</style>\n",
              "<table border=\"1\" class=\"dataframe\">\n",
              "  <thead>\n",
              "    <tr style=\"text-align: right;\">\n",
              "      <th></th>\n",
              "      <th>user_id</th>\n",
              "    </tr>\n",
              "    <tr>\n",
              "      <th>source</th>\n",
              "      <th></th>\n",
              "    </tr>\n",
              "  </thead>\n",
              "  <tbody>\n",
              "    <tr>\n",
              "      <th>AdWords</th>\n",
              "      <td>63065</td>\n",
              "    </tr>\n",
              "    <tr>\n",
              "      <th>Reddit</th>\n",
              "      <td>105216</td>\n",
              "    </tr>\n",
              "    <tr>\n",
              "      <th>SEO</th>\n",
              "      <td>41742</td>\n",
              "    </tr>\n",
              "  </tbody>\n",
              "</table>\n",
              "</div>"
            ],
            "text/plain": [
              "         user_id\n",
              "source          \n",
              "AdWords    63065\n",
              "Reddit    105216\n",
              "SEO        41742"
            ]
          },
          "metadata": {
            "tags": []
          },
          "execution_count": 24
        }
      ]
    },
    {
      "cell_type": "code",
      "metadata": {
        "id": "dIIePsqzx2If"
      },
      "source": [
        "source1 = source.drop(columns = ['datetime','topic','country','event_type'])"
      ],
      "execution_count": null,
      "outputs": []
    },
    {
      "cell_type": "code",
      "metadata": {
        "colab": {
          "base_uri": "https://localhost:8080/",
          "height": 328
        },
        "id": "DG0RiZKqx71O",
        "outputId": "4c41c2fe-f6c3-4699-86e7-5dc7677f162b"
      },
      "source": [
        "source1.plot.bar()\n",
        "plt.ylabel('Total Count')\n",
        "plt.title('Total Count for first readers by source')\n",
        "plt.show()"
      ],
      "execution_count": null,
      "outputs": [
        {
          "output_type": "display_data",
          "data": {
            "image/png": "[encoded data removed]",
            "text/plain": [
              "<Figure size 432x288 with 1 Axes>"
            ]
          },
          "metadata": {
            "tags": [],
            "needs_background": "light"
          }
        }
      ]
    },
    {
      "cell_type": "markdown",
      "metadata": {
        "id": "HIrEBL4n5lv8"
      },
      "source": [
        "Filtering first-time Readers by Topic"
      ]
    },
    {
      "cell_type": "code",
      "metadata": {
        "colab": {
          "base_uri": "https://localhost:8080/",
          "height": 257
        },
        "id": "_c0nNf43yBrM",
        "outputId": "82f3d51e-685a-466f-c7f9-81232b1a7889"
      },
      "source": [
        "first_readers.groupby('topic').count()"
      ],
      "execution_count": null,
      "outputs": [
        {
          "output_type": "execute_result",
          "data": {
            "text/html": [
              "<div>\n",
              "<style scoped>\n",
              "    .dataframe tbody tr th:only-of-type {\n",
              "        vertical-align: middle;\n",
              "    }\n",
              "\n",
              "    .dataframe tbody tr th {\n",
              "        vertical-align: top;\n",
              "    }\n",
              "\n",
              "    .dataframe thead th {\n",
              "        text-align: right;\n",
              "    }\n",
              "</style>\n",
              "<table border=\"1\" class=\"dataframe\">\n",
              "  <thead>\n",
              "    <tr style=\"text-align: right;\">\n",
              "      <th></th>\n",
              "      <th>datetime</th>\n",
              "      <th>event_type</th>\n",
              "      <th>country</th>\n",
              "      <th>user_id</th>\n",
              "      <th>source</th>\n",
              "    </tr>\n",
              "    <tr>\n",
              "      <th>topic</th>\n",
              "      <th></th>\n",
              "      <th></th>\n",
              "      <th></th>\n",
              "      <th></th>\n",
              "      <th></th>\n",
              "    </tr>\n",
              "  </thead>\n",
              "  <tbody>\n",
              "    <tr>\n",
              "      <th>Africa</th>\n",
              "      <td>15913</td>\n",
              "      <td>15913</td>\n",
              "      <td>15913</td>\n",
              "      <td>15913</td>\n",
              "      <td>15913</td>\n",
              "    </tr>\n",
              "    <tr>\n",
              "      <th>Asia</th>\n",
              "      <td>76092</td>\n",
              "      <td>76092</td>\n",
              "      <td>76092</td>\n",
              "      <td>76092</td>\n",
              "      <td>76092</td>\n",
              "    </tr>\n",
              "    <tr>\n",
              "      <th>Australia</th>\n",
              "      <td>15795</td>\n",
              "      <td>15795</td>\n",
              "      <td>15795</td>\n",
              "      <td>15795</td>\n",
              "      <td>15795</td>\n",
              "    </tr>\n",
              "    <tr>\n",
              "      <th>Europe</th>\n",
              "      <td>39561</td>\n",
              "      <td>39561</td>\n",
              "      <td>39561</td>\n",
              "      <td>39561</td>\n",
              "      <td>39561</td>\n",
              "    </tr>\n",
              "    <tr>\n",
              "      <th>North America</th>\n",
              "      <td>37567</td>\n",
              "      <td>37567</td>\n",
              "      <td>37567</td>\n",
              "      <td>37567</td>\n",
              "      <td>37567</td>\n",
              "    </tr>\n",
              "    <tr>\n",
              "      <th>South America</th>\n",
              "      <td>25095</td>\n",
              "      <td>25095</td>\n",
              "      <td>25095</td>\n",
              "      <td>25095</td>\n",
              "      <td>25095</td>\n",
              "    </tr>\n",
              "  </tbody>\n",
              "</table>\n",
              "</div>"
            ],
            "text/plain": [
              "               datetime  event_type  country  user_id  source\n",
              "topic                                                        \n",
              "Africa            15913       15913    15913    15913   15913\n",
              "Asia              76092       76092    76092    76092   76092\n",
              "Australia         15795       15795    15795    15795   15795\n",
              "Europe            39561       39561    39561    39561   39561\n",
              "North America     37567       37567    37567    37567   37567\n",
              "South America     25095       25095    25095    25095   25095"
            ]
          },
          "metadata": {
            "tags": []
          },
          "execution_count": 27
        }
      ]
    },
    {
      "cell_type": "code",
      "metadata": {
        "id": "cv33lJLpyK3y"
      },
      "source": [
        "\n",
        "topic = first_readers.groupby('topic').count()"
      ],
      "execution_count": null,
      "outputs": []
    },
    {
      "cell_type": "code",
      "metadata": {
        "colab": {
          "base_uri": "https://localhost:8080/",
          "height": 257
        },
        "id": "hXObLux5yeHP",
        "outputId": "ceca9979-e7ad-4f25-f83f-5d3d7221701e"
      },
      "source": [
        "topic.drop(columns = ['datetime','source','country','event_type'])"
      ],
      "execution_count": null,
      "outputs": [
        {
          "output_type": "execute_result",
          "data": {
            "text/html": [
              "<div>\n",
              "<style scoped>\n",
              "    .dataframe tbody tr th:only-of-type {\n",
              "        vertical-align: middle;\n",
              "    }\n",
              "\n",
              "    .dataframe tbody tr th {\n",
              "        vertical-align: top;\n",
              "    }\n",
              "\n",
              "    .dataframe thead th {\n",
              "        text-align: right;\n",
              "    }\n",
              "</style>\n",
              "<table border=\"1\" class=\"dataframe\">\n",
              "  <thead>\n",
              "    <tr style=\"text-align: right;\">\n",
              "      <th></th>\n",
              "      <th>user_id</th>\n",
              "    </tr>\n",
              "    <tr>\n",
              "      <th>topic</th>\n",
              "      <th></th>\n",
              "    </tr>\n",
              "  </thead>\n",
              "  <tbody>\n",
              "    <tr>\n",
              "      <th>Africa</th>\n",
              "      <td>15913</td>\n",
              "    </tr>\n",
              "    <tr>\n",
              "      <th>Asia</th>\n",
              "      <td>76092</td>\n",
              "    </tr>\n",
              "    <tr>\n",
              "      <th>Australia</th>\n",
              "      <td>15795</td>\n",
              "    </tr>\n",
              "    <tr>\n",
              "      <th>Europe</th>\n",
              "      <td>39561</td>\n",
              "    </tr>\n",
              "    <tr>\n",
              "      <th>North America</th>\n",
              "      <td>37567</td>\n",
              "    </tr>\n",
              "    <tr>\n",
              "      <th>South America</th>\n",
              "      <td>25095</td>\n",
              "    </tr>\n",
              "  </tbody>\n",
              "</table>\n",
              "</div>"
            ],
            "text/plain": [
              "               user_id\n",
              "topic                 \n",
              "Africa           15913\n",
              "Asia             76092\n",
              "Australia        15795\n",
              "Europe           39561\n",
              "North America    37567\n",
              "South America    25095"
            ]
          },
          "metadata": {
            "tags": []
          },
          "execution_count": 29
        }
      ]
    },
    {
      "cell_type": "code",
      "metadata": {
        "id": "kj8M6YCsyjEm"
      },
      "source": [
        "topic1 = topic.drop(columns = ['datetime','source','country','event_type'])"
      ],
      "execution_count": null,
      "outputs": []
    },
    {
      "cell_type": "code",
      "metadata": {
        "colab": {
          "base_uri": "https://localhost:8080/",
          "height": 358
        },
        "id": "e9JTzu15yogH",
        "outputId": "fca9d942-e78f-45a0-beb8-ff9594fe6569"
      },
      "source": [
        "topic1.plot.bar()\n",
        "plt.ylabel('Total Count')\n",
        "plt.title('Total Count for first readers by topic')\n",
        "plt.show()"
      ],
      "execution_count": null,
      "outputs": [
        {
          "output_type": "display_data",
          "data": {
            "image/png": "[encoded data removed]",
            "text/plain": [
              "<Figure size 432x288 with 1 Axes>"
            ]
          },
          "metadata": {
            "tags": [],
            "needs_background": "light"
          }
        }
      ]
    },
    {
      "cell_type": "markdown",
      "metadata": {
        "id": "VhGGFRYB5thw"
      },
      "source": [
        "Filtering Returning Readers"
      ]
    },
    {
      "cell_type": "code",
      "metadata": {
        "colab": {
          "base_uri": "https://localhost:8080/",
          "height": 406
        },
        "id": "naQAjBPQzBrC",
        "outputId": "5e6220bd-655d-41d5-a11a-7121cee671db"
      },
      "source": [
        "readers.loc[(readers.source !='AdWords')&(readers.source !='Reddit')&(readers.source !='SEO')]"
      ],
      "execution_count": null,
      "outputs": [
        {
          "output_type": "execute_result",
          "data": {
            "text/html": [
              "<div>\n",
              "<style scoped>\n",
              "    .dataframe tbody tr th:only-of-type {\n",
              "        vertical-align: middle;\n",
              "    }\n",
              "\n",
              "    .dataframe tbody tr th {\n",
              "        vertical-align: top;\n",
              "    }\n",
              "\n",
              "    .dataframe thead th {\n",
              "        text-align: right;\n",
              "    }\n",
              "</style>\n",
              "<table border=\"1\" class=\"dataframe\">\n",
              "  <thead>\n",
              "    <tr style=\"text-align: right;\">\n",
              "      <th></th>\n",
              "      <th>datetime</th>\n",
              "      <th>event_type</th>\n",
              "      <th>country</th>\n",
              "      <th>user_id</th>\n",
              "      <th>source</th>\n",
              "      <th>topic</th>\n",
              "    </tr>\n",
              "  </thead>\n",
              "  <tbody>\n",
              "    <tr>\n",
              "      <th>170</th>\n",
              "      <td>2018-01-01 02:20:18</td>\n",
              "      <td>read</td>\n",
              "      <td>country_5</td>\n",
              "      <td>2.458151e+09</td>\n",
              "      <td>North America</td>\n",
              "      <td>NaN</td>\n",
              "    </tr>\n",
              "    <tr>\n",
              "      <th>211</th>\n",
              "      <td>2018-01-01 02:53:39</td>\n",
              "      <td>read</td>\n",
              "      <td>country_4</td>\n",
              "      <td>2.458151e+09</td>\n",
              "      <td>Asia</td>\n",
              "      <td>NaN</td>\n",
              "    </tr>\n",
              "    <tr>\n",
              "      <th>278</th>\n",
              "      <td>2018-01-01 03:34:22</td>\n",
              "      <td>read</td>\n",
              "      <td>country_4</td>\n",
              "      <td>2.458152e+09</td>\n",
              "      <td>Africa</td>\n",
              "      <td>NaN</td>\n",
              "    </tr>\n",
              "    <tr>\n",
              "      <th>281</th>\n",
              "      <td>2018-01-01 03:36:18</td>\n",
              "      <td>read</td>\n",
              "      <td>country_5</td>\n",
              "      <td>2.458151e+09</td>\n",
              "      <td>Asia</td>\n",
              "      <td>NaN</td>\n",
              "    </tr>\n",
              "    <tr>\n",
              "      <th>286</th>\n",
              "      <td>2018-01-01 03:40:42</td>\n",
              "      <td>read</td>\n",
              "      <td>country_5</td>\n",
              "      <td>2.458151e+09</td>\n",
              "      <td>South America</td>\n",
              "      <td>NaN</td>\n",
              "    </tr>\n",
              "    <tr>\n",
              "      <th>...</th>\n",
              "      <td>...</td>\n",
              "      <td>...</td>\n",
              "      <td>...</td>\n",
              "      <td>...</td>\n",
              "      <td>...</td>\n",
              "      <td>...</td>\n",
              "    </tr>\n",
              "    <tr>\n",
              "      <th>597897</th>\n",
              "      <td>2018-03-31 04:34:32</td>\n",
              "      <td>read</td>\n",
              "      <td>country_4</td>\n",
              "      <td>2.458361e+09</td>\n",
              "      <td>Africa</td>\n",
              "      <td>NaN</td>\n",
              "    </tr>\n",
              "    <tr>\n",
              "      <th>597898</th>\n",
              "      <td>2018-03-31 05:02:06</td>\n",
              "      <td>read</td>\n",
              "      <td>country_6</td>\n",
              "      <td>2.458361e+09</td>\n",
              "      <td>Asia</td>\n",
              "      <td>NaN</td>\n",
              "    </tr>\n",
              "    <tr>\n",
              "      <th>597899</th>\n",
              "      <td>2018-03-31 05:02:14</td>\n",
              "      <td>read</td>\n",
              "      <td>country_7</td>\n",
              "      <td>2.458361e+09</td>\n",
              "      <td>North America</td>\n",
              "      <td>NaN</td>\n",
              "    </tr>\n",
              "    <tr>\n",
              "      <th>597900</th>\n",
              "      <td>2018-03-31 05:03:53</td>\n",
              "      <td>read</td>\n",
              "      <td>country_7</td>\n",
              "      <td>2.458361e+09</td>\n",
              "      <td>Europe</td>\n",
              "      <td>NaN</td>\n",
              "    </tr>\n",
              "    <tr>\n",
              "      <th>597901</th>\n",
              "      <td>2018-03-31 05:04:50</td>\n",
              "      <td>read</td>\n",
              "      <td>country_4</td>\n",
              "      <td>2.458361e+09</td>\n",
              "      <td>Africa</td>\n",
              "      <td>NaN</td>\n",
              "    </tr>\n",
              "  </tbody>\n",
              "</table>\n",
              "<p>371854 rows × 6 columns</p>\n",
              "</div>"
            ],
            "text/plain": [
              "                   datetime event_type  ...         source  topic\n",
              "170     2018-01-01 02:20:18       read  ...  North America    NaN\n",
              "211     2018-01-01 02:53:39       read  ...           Asia    NaN\n",
              "278     2018-01-01 03:34:22       read  ...         Africa    NaN\n",
              "281     2018-01-01 03:36:18       read  ...           Asia    NaN\n",
              "286     2018-01-01 03:40:42       read  ...  South America    NaN\n",
              "...                     ...        ...  ...            ...    ...\n",
              "597897  2018-03-31 04:34:32       read  ...         Africa    NaN\n",
              "597898  2018-03-31 05:02:06       read  ...           Asia    NaN\n",
              "597899  2018-03-31 05:02:14       read  ...  North America    NaN\n",
              "597900  2018-03-31 05:03:53       read  ...         Europe    NaN\n",
              "597901  2018-03-31 05:04:50       read  ...         Africa    NaN\n",
              "\n",
              "[371854 rows x 6 columns]"
            ]
          },
          "metadata": {
            "tags": []
          },
          "execution_count": 32
        }
      ]
    },
    {
      "cell_type": "code",
      "metadata": {
        "id": "DrBIYBwZzWa5"
      },
      "source": [
        "returning_readers = readers.loc[(readers.source !='AdWords')&(readers.source !='Reddit')&(readers.source !='SEO')]"
      ],
      "execution_count": null,
      "outputs": []
    },
    {
      "cell_type": "code",
      "metadata": {
        "colab": {
          "base_uri": "https://localhost:8080/",
          "height": 406
        },
        "id": "VxbnI5tJze4E",
        "outputId": "df68974a-06a9-465e-cf7b-b4a4b01ad30d"
      },
      "source": [
        "returning_readers.drop(columns = ['topic'])"
      ],
      "execution_count": null,
      "outputs": [
        {
          "output_type": "execute_result",
          "data": {
            "text/html": [
              "<div>\n",
              "<style scoped>\n",
              "    .dataframe tbody tr th:only-of-type {\n",
              "        vertical-align: middle;\n",
              "    }\n",
              "\n",
              "    .dataframe tbody tr th {\n",
              "        vertical-align: top;\n",
              "    }\n",
              "\n",
              "    .dataframe thead th {\n",
              "        text-align: right;\n",
              "    }\n",
              "</style>\n",
              "<table border=\"1\" class=\"dataframe\">\n",
              "  <thead>\n",
              "    <tr style=\"text-align: right;\">\n",
              "      <th></th>\n",
              "      <th>datetime</th>\n",
              "      <th>event_type</th>\n",
              "      <th>country</th>\n",
              "      <th>user_id</th>\n",
              "      <th>source</th>\n",
              "    </tr>\n",
              "  </thead>\n",
              "  <tbody>\n",
              "    <tr>\n",
              "      <th>170</th>\n",
              "      <td>2018-01-01 02:20:18</td>\n",
              "      <td>read</td>\n",
              "      <td>country_5</td>\n",
              "      <td>2.458151e+09</td>\n",
              "      <td>North America</td>\n",
              "    </tr>\n",
              "    <tr>\n",
              "      <th>211</th>\n",
              "      <td>2018-01-01 02:53:39</td>\n",
              "      <td>read</td>\n",
              "      <td>country_4</td>\n",
              "      <td>2.458151e+09</td>\n",
              "      <td>Asia</td>\n",
              "    </tr>\n",
              "    <tr>\n",
              "      <th>278</th>\n",
              "      <td>2018-01-01 03:34:22</td>\n",
              "      <td>read</td>\n",
              "      <td>country_4</td>\n",
              "      <td>2.458152e+09</td>\n",
              "      <td>Africa</td>\n",
              "    </tr>\n",
              "    <tr>\n",
              "      <th>281</th>\n",
              "      <td>2018-01-01 03:36:18</td>\n",
              "      <td>read</td>\n",
              "      <td>country_5</td>\n",
              "      <td>2.458151e+09</td>\n",
              "      <td>Asia</td>\n",
              "    </tr>\n",
              "    <tr>\n",
              "      <th>286</th>\n",
              "      <td>2018-01-01 03:40:42</td>\n",
              "      <td>read</td>\n",
              "      <td>country_5</td>\n",
              "      <td>2.458151e+09</td>\n",
              "      <td>South America</td>\n",
              "    </tr>\n",
              "    <tr>\n",
              "      <th>...</th>\n",
              "      <td>...</td>\n",
              "      <td>...</td>\n",
              "      <td>...</td>\n",
              "      <td>...</td>\n",
              "      <td>...</td>\n",
              "    </tr>\n",
              "    <tr>\n",
              "      <th>597897</th>\n",
              "      <td>2018-03-31 04:34:32</td>\n",
              "      <td>read</td>\n",
              "      <td>country_4</td>\n",
              "      <td>2.458361e+09</td>\n",
              "      <td>Africa</td>\n",
              "    </tr>\n",
              "    <tr>\n",
              "      <th>597898</th>\n",
              "      <td>2018-03-31 05:02:06</td>\n",
              "      <td>read</td>\n",
              "      <td>country_6</td>\n",
              "      <td>2.458361e+09</td>\n",
              "      <td>Asia</td>\n",
              "    </tr>\n",
              "    <tr>\n",
              "      <th>597899</th>\n",
              "      <td>2018-03-31 05:02:14</td>\n",
              "      <td>read</td>\n",
              "      <td>country_7</td>\n",
              "      <td>2.458361e+09</td>\n",
              "      <td>North America</td>\n",
              "    </tr>\n",
              "    <tr>\n",
              "      <th>597900</th>\n",
              "      <td>2018-03-31 05:03:53</td>\n",
              "      <td>read</td>\n",
              "      <td>country_7</td>\n",
              "      <td>2.458361e+09</td>\n",
              "      <td>Europe</td>\n",
              "    </tr>\n",
              "    <tr>\n",
              "      <th>597901</th>\n",
              "      <td>2018-03-31 05:04:50</td>\n",
              "      <td>read</td>\n",
              "      <td>country_4</td>\n",
              "      <td>2.458361e+09</td>\n",
              "      <td>Africa</td>\n",
              "    </tr>\n",
              "  </tbody>\n",
              "</table>\n",
              "<p>371854 rows × 5 columns</p>\n",
              "</div>"
            ],
            "text/plain": [
              "                   datetime event_type    country       user_id         source\n",
              "170     2018-01-01 02:20:18       read  country_5  2.458151e+09  North America\n",
              "211     2018-01-01 02:53:39       read  country_4  2.458151e+09           Asia\n",
              "278     2018-01-01 03:34:22       read  country_4  2.458152e+09         Africa\n",
              "281     2018-01-01 03:36:18       read  country_5  2.458151e+09           Asia\n",
              "286     2018-01-01 03:40:42       read  country_5  2.458151e+09  South America\n",
              "...                     ...        ...        ...           ...            ...\n",
              "597897  2018-03-31 04:34:32       read  country_4  2.458361e+09         Africa\n",
              "597898  2018-03-31 05:02:06       read  country_6  2.458361e+09           Asia\n",
              "597899  2018-03-31 05:02:14       read  country_7  2.458361e+09  North America\n",
              "597900  2018-03-31 05:03:53       read  country_7  2.458361e+09         Europe\n",
              "597901  2018-03-31 05:04:50       read  country_4  2.458361e+09         Africa\n",
              "\n",
              "[371854 rows x 5 columns]"
            ]
          },
          "metadata": {
            "tags": []
          },
          "execution_count": 34
        }
      ]
    },
    {
      "cell_type": "code",
      "metadata": {
        "id": "b3OdfKjPzk2w"
      },
      "source": [
        "returning_readers1 = returning_readers.drop(columns = ['topic'])"
      ],
      "execution_count": null,
      "outputs": []
    },
    {
      "cell_type": "code",
      "metadata": {
        "colab": {
          "base_uri": "https://localhost:8080/",
          "height": 406
        },
        "id": "3JuzO7uRztjc",
        "outputId": "d497d124-d666-4ff0-e57d-418bfc16c08d"
      },
      "source": [
        "returning_readers1.rename(columns = {'source':'topic'})"
      ],
      "execution_count": null,
      "outputs": [
        {
          "output_type": "execute_result",
          "data": {
            "text/html": [
              "<div>\n",
              "<style scoped>\n",
              "    .dataframe tbody tr th:only-of-type {\n",
              "        vertical-align: middle;\n",
              "    }\n",
              "\n",
              "    .dataframe tbody tr th {\n",
              "        vertical-align: top;\n",
              "    }\n",
              "\n",
              "    .dataframe thead th {\n",
              "        text-align: right;\n",
              "    }\n",
              "</style>\n",
              "<table border=\"1\" class=\"dataframe\">\n",
              "  <thead>\n",
              "    <tr style=\"text-align: right;\">\n",
              "      <th></th>\n",
              "      <th>datetime</th>\n",
              "      <th>event_type</th>\n",
              "      <th>country</th>\n",
              "      <th>user_id</th>\n",
              "      <th>topic</th>\n",
              "    </tr>\n",
              "  </thead>\n",
              "  <tbody>\n",
              "    <tr>\n",
              "      <th>170</th>\n",
              "      <td>2018-01-01 02:20:18</td>\n",
              "      <td>read</td>\n",
              "      <td>country_5</td>\n",
              "      <td>2.458151e+09</td>\n",
              "      <td>North America</td>\n",
              "    </tr>\n",
              "    <tr>\n",
              "      <th>211</th>\n",
              "      <td>2018-01-01 02:53:39</td>\n",
              "      <td>read</td>\n",
              "      <td>country_4</td>\n",
              "      <td>2.458151e+09</td>\n",
              "      <td>Asia</td>\n",
              "    </tr>\n",
              "    <tr>\n",
              "      <th>278</th>\n",
              "      <td>2018-01-01 03:34:22</td>\n",
              "      <td>read</td>\n",
              "      <td>country_4</td>\n",
              "      <td>2.458152e+09</td>\n",
              "      <td>Africa</td>\n",
              "    </tr>\n",
              "    <tr>\n",
              "      <th>281</th>\n",
              "      <td>2018-01-01 03:36:18</td>\n",
              "      <td>read</td>\n",
              "      <td>country_5</td>\n",
              "      <td>2.458151e+09</td>\n",
              "      <td>Asia</td>\n",
              "    </tr>\n",
              "    <tr>\n",
              "      <th>286</th>\n",
              "      <td>2018-01-01 03:40:42</td>\n",
              "      <td>read</td>\n",
              "      <td>country_5</td>\n",
              "      <td>2.458151e+09</td>\n",
              "      <td>South America</td>\n",
              "    </tr>\n",
              "    <tr>\n",
              "      <th>...</th>\n",
              "      <td>...</td>\n",
              "      <td>...</td>\n",
              "      <td>...</td>\n",
              "      <td>...</td>\n",
              "      <td>...</td>\n",
              "    </tr>\n",
              "    <tr>\n",
              "      <th>597897</th>\n",
              "      <td>2018-03-31 04:34:32</td>\n",
              "      <td>read</td>\n",
              "      <td>country_4</td>\n",
              "      <td>2.458361e+09</td>\n",
              "      <td>Africa</td>\n",
              "    </tr>\n",
              "    <tr>\n",
              "      <th>597898</th>\n",
              "      <td>2018-03-31 05:02:06</td>\n",
              "      <td>read</td>\n",
              "      <td>country_6</td>\n",
              "      <td>2.458361e+09</td>\n",
              "      <td>Asia</td>\n",
              "    </tr>\n",
              "    <tr>\n",
              "      <th>597899</th>\n",
              "      <td>2018-03-31 05:02:14</td>\n",
              "      <td>read</td>\n",
              "      <td>country_7</td>\n",
              "      <td>2.458361e+09</td>\n",
              "      <td>North America</td>\n",
              "    </tr>\n",
              "    <tr>\n",
              "      <th>597900</th>\n",
              "      <td>2018-03-31 05:03:53</td>\n",
              "      <td>read</td>\n",
              "      <td>country_7</td>\n",
              "      <td>2.458361e+09</td>\n",
              "      <td>Europe</td>\n",
              "    </tr>\n",
              "    <tr>\n",
              "      <th>597901</th>\n",
              "      <td>2018-03-31 05:04:50</td>\n",
              "      <td>read</td>\n",
              "      <td>country_4</td>\n",
              "      <td>2.458361e+09</td>\n",
              "      <td>Africa</td>\n",
              "    </tr>\n",
              "  </tbody>\n",
              "</table>\n",
              "<p>371854 rows × 5 columns</p>\n",
              "</div>"
            ],
            "text/plain": [
              "                   datetime event_type    country       user_id          topic\n",
              "170     2018-01-01 02:20:18       read  country_5  2.458151e+09  North America\n",
              "211     2018-01-01 02:53:39       read  country_4  2.458151e+09           Asia\n",
              "278     2018-01-01 03:34:22       read  country_4  2.458152e+09         Africa\n",
              "281     2018-01-01 03:36:18       read  country_5  2.458151e+09           Asia\n",
              "286     2018-01-01 03:40:42       read  country_5  2.458151e+09  South America\n",
              "...                     ...        ...        ...           ...            ...\n",
              "597897  2018-03-31 04:34:32       read  country_4  2.458361e+09         Africa\n",
              "597898  2018-03-31 05:02:06       read  country_6  2.458361e+09           Asia\n",
              "597899  2018-03-31 05:02:14       read  country_7  2.458361e+09  North America\n",
              "597900  2018-03-31 05:03:53       read  country_7  2.458361e+09         Europe\n",
              "597901  2018-03-31 05:04:50       read  country_4  2.458361e+09         Africa\n",
              "\n",
              "[371854 rows x 5 columns]"
            ]
          },
          "metadata": {
            "tags": []
          },
          "execution_count": 36
        }
      ]
    },
    {
      "cell_type": "code",
      "metadata": {
        "id": "AVro_bZaz2qx"
      },
      "source": [
        "returning_readers2 = returning_readers1.rename(columns = {'source':'topic'})"
      ],
      "execution_count": null,
      "outputs": []
    },
    {
      "cell_type": "markdown",
      "metadata": {
        "id": "Ou6RgLQB6Dne"
      },
      "source": [
        "Filtering Returning Readers by Country"
      ]
    },
    {
      "cell_type": "code",
      "metadata": {
        "colab": {
          "base_uri": "https://localhost:8080/",
          "height": 317
        },
        "id": "Yyqe_IBy0Iat",
        "outputId": "3a307f17-6061-4a71-bd0a-358c3bdc07cb"
      },
      "source": [
        "returning_readers2.groupby('country').count()"
      ],
      "execution_count": null,
      "outputs": [
        {
          "output_type": "execute_result",
          "data": {
            "text/html": [
              "<div>\n",
              "<style scoped>\n",
              "    .dataframe tbody tr th:only-of-type {\n",
              "        vertical-align: middle;\n",
              "    }\n",
              "\n",
              "    .dataframe tbody tr th {\n",
              "        vertical-align: top;\n",
              "    }\n",
              "\n",
              "    .dataframe thead th {\n",
              "        text-align: right;\n",
              "    }\n",
              "</style>\n",
              "<table border=\"1\" class=\"dataframe\">\n",
              "  <thead>\n",
              "    <tr style=\"text-align: right;\">\n",
              "      <th></th>\n",
              "      <th>datetime</th>\n",
              "      <th>event_type</th>\n",
              "      <th>user_id</th>\n",
              "      <th>topic</th>\n",
              "    </tr>\n",
              "    <tr>\n",
              "      <th>country</th>\n",
              "      <th></th>\n",
              "      <th></th>\n",
              "      <th></th>\n",
              "      <th></th>\n",
              "    </tr>\n",
              "  </thead>\n",
              "  <tbody>\n",
              "    <tr>\n",
              "      <th>country_1</th>\n",
              "      <td>1155</td>\n",
              "      <td>1155</td>\n",
              "      <td>1155</td>\n",
              "      <td>1155</td>\n",
              "    </tr>\n",
              "    <tr>\n",
              "      <th>country_2</th>\n",
              "      <td>79401</td>\n",
              "      <td>79401</td>\n",
              "      <td>79401</td>\n",
              "      <td>79401</td>\n",
              "    </tr>\n",
              "    <tr>\n",
              "      <th>country_3</th>\n",
              "      <td>6386</td>\n",
              "      <td>6386</td>\n",
              "      <td>6386</td>\n",
              "      <td>6386</td>\n",
              "    </tr>\n",
              "    <tr>\n",
              "      <th>country_4</th>\n",
              "      <td>58507</td>\n",
              "      <td>58507</td>\n",
              "      <td>58507</td>\n",
              "      <td>58507</td>\n",
              "    </tr>\n",
              "    <tr>\n",
              "      <th>country_5</th>\n",
              "      <td>109383</td>\n",
              "      <td>109383</td>\n",
              "      <td>109383</td>\n",
              "      <td>109383</td>\n",
              "    </tr>\n",
              "    <tr>\n",
              "      <th>country_6</th>\n",
              "      <td>32596</td>\n",
              "      <td>32596</td>\n",
              "      <td>32596</td>\n",
              "      <td>32596</td>\n",
              "    </tr>\n",
              "    <tr>\n",
              "      <th>country_7</th>\n",
              "      <td>80276</td>\n",
              "      <td>80276</td>\n",
              "      <td>80276</td>\n",
              "      <td>80276</td>\n",
              "    </tr>\n",
              "    <tr>\n",
              "      <th>country_8</th>\n",
              "      <td>4150</td>\n",
              "      <td>4150</td>\n",
              "      <td>4150</td>\n",
              "      <td>4150</td>\n",
              "    </tr>\n",
              "  </tbody>\n",
              "</table>\n",
              "</div>"
            ],
            "text/plain": [
              "           datetime  event_type  user_id   topic\n",
              "country                                         \n",
              "country_1      1155        1155     1155    1155\n",
              "country_2     79401       79401    79401   79401\n",
              "country_3      6386        6386     6386    6386\n",
              "country_4     58507       58507    58507   58507\n",
              "country_5    109383      109383   109383  109383\n",
              "country_6     32596       32596    32596   32596\n",
              "country_7     80276       80276    80276   80276\n",
              "country_8      4150        4150     4150    4150"
            ]
          },
          "metadata": {
            "tags": []
          },
          "execution_count": 39
        }
      ]
    },
    {
      "cell_type": "code",
      "metadata": {
        "id": "o2cXJpA_0RJW"
      },
      "source": [
        "returning_readers3 = returning_readers2.groupby('country').count()"
      ],
      "execution_count": null,
      "outputs": []
    },
    {
      "cell_type": "code",
      "metadata": {
        "colab": {
          "base_uri": "https://localhost:8080/",
          "height": 317
        },
        "id": "4LvvdxxJ0Vc6",
        "outputId": "08dcdde0-2f98-4310-a16f-28132bc72808"
      },
      "source": [
        "returning_readers3.drop(columns = ['datetime','topic','event_type'])"
      ],
      "execution_count": null,
      "outputs": [
        {
          "output_type": "execute_result",
          "data": {
            "text/html": [
              "<div>\n",
              "<style scoped>\n",
              "    .dataframe tbody tr th:only-of-type {\n",
              "        vertical-align: middle;\n",
              "    }\n",
              "\n",
              "    .dataframe tbody tr th {\n",
              "        vertical-align: top;\n",
              "    }\n",
              "\n",
              "    .dataframe thead th {\n",
              "        text-align: right;\n",
              "    }\n",
              "</style>\n",
              "<table border=\"1\" class=\"dataframe\">\n",
              "  <thead>\n",
              "    <tr style=\"text-align: right;\">\n",
              "      <th></th>\n",
              "      <th>user_id</th>\n",
              "    </tr>\n",
              "    <tr>\n",
              "      <th>country</th>\n",
              "      <th></th>\n",
              "    </tr>\n",
              "  </thead>\n",
              "  <tbody>\n",
              "    <tr>\n",
              "      <th>country_1</th>\n",
              "      <td>1155</td>\n",
              "    </tr>\n",
              "    <tr>\n",
              "      <th>country_2</th>\n",
              "      <td>79401</td>\n",
              "    </tr>\n",
              "    <tr>\n",
              "      <th>country_3</th>\n",
              "      <td>6386</td>\n",
              "    </tr>\n",
              "    <tr>\n",
              "      <th>country_4</th>\n",
              "      <td>58507</td>\n",
              "    </tr>\n",
              "    <tr>\n",
              "      <th>country_5</th>\n",
              "      <td>109383</td>\n",
              "    </tr>\n",
              "    <tr>\n",
              "      <th>country_6</th>\n",
              "      <td>32596</td>\n",
              "    </tr>\n",
              "    <tr>\n",
              "      <th>country_7</th>\n",
              "      <td>80276</td>\n",
              "    </tr>\n",
              "    <tr>\n",
              "      <th>country_8</th>\n",
              "      <td>4150</td>\n",
              "    </tr>\n",
              "  </tbody>\n",
              "</table>\n",
              "</div>"
            ],
            "text/plain": [
              "           user_id\n",
              "country           \n",
              "country_1     1155\n",
              "country_2    79401\n",
              "country_3     6386\n",
              "country_4    58507\n",
              "country_5   109383\n",
              "country_6    32596\n",
              "country_7    80276\n",
              "country_8     4150"
            ]
          },
          "metadata": {
            "tags": []
          },
          "execution_count": 41
        }
      ]
    },
    {
      "cell_type": "code",
      "metadata": {
        "id": "cLwUFGL_0aJV"
      },
      "source": [
        "returncountries = returning_readers3.drop(columns = ['datetime','topic','event_type'])"
      ],
      "execution_count": null,
      "outputs": []
    },
    {
      "cell_type": "code",
      "metadata": {
        "colab": {
          "base_uri": "https://localhost:8080/",
          "height": 334
        },
        "id": "EYFDNPZj0f9d",
        "outputId": "4c963a94-16e7-420d-ed81-0938efc439ea"
      },
      "source": [
        "returncountries.plot.bar()\n",
        "plt.ylabel('Total Count')\n",
        "plt.title('Total Count for returning readers by country')\n",
        "plt.show()"
      ],
      "execution_count": null,
      "outputs": [
        {
          "output_type": "display_data",
          "data": {
            "image/png": "[encoded data removed]",
            "text/plain": [
              "<Figure size 432x288 with 1 Axes>"
            ]
          },
          "metadata": {
            "tags": [],
            "needs_background": "light"
          }
        }
      ]
    },
    {
      "cell_type": "markdown",
      "metadata": {
        "id": "WSDFzvBr6Ov1"
      },
      "source": [
        "Filtering Returning Readers by Topic"
      ]
    },
    {
      "cell_type": "code",
      "metadata": {
        "colab": {
          "base_uri": "https://localhost:8080/",
          "height": 257
        },
        "id": "B1oDPOt20kmO",
        "outputId": "f6a6f244-cefc-4afe-b9ed-2f3da6e7a068"
      },
      "source": [
        "returning_readers2.groupby('topic').count()"
      ],
      "execution_count": null,
      "outputs": [
        {
          "output_type": "execute_result",
          "data": {
            "text/html": [
              "<div>\n",
              "<style scoped>\n",
              "    .dataframe tbody tr th:only-of-type {\n",
              "        vertical-align: middle;\n",
              "    }\n",
              "\n",
              "    .dataframe tbody tr th {\n",
              "        vertical-align: top;\n",
              "    }\n",
              "\n",
              "    .dataframe thead th {\n",
              "        text-align: right;\n",
              "    }\n",
              "</style>\n",
              "<table border=\"1\" class=\"dataframe\">\n",
              "  <thead>\n",
              "    <tr style=\"text-align: right;\">\n",
              "      <th></th>\n",
              "      <th>datetime</th>\n",
              "      <th>event_type</th>\n",
              "      <th>country</th>\n",
              "      <th>user_id</th>\n",
              "    </tr>\n",
              "    <tr>\n",
              "      <th>topic</th>\n",
              "      <th></th>\n",
              "      <th></th>\n",
              "      <th></th>\n",
              "      <th></th>\n",
              "    </tr>\n",
              "  </thead>\n",
              "  <tbody>\n",
              "    <tr>\n",
              "      <th>Africa</th>\n",
              "      <td>27481</td>\n",
              "      <td>27481</td>\n",
              "      <td>27481</td>\n",
              "      <td>27481</td>\n",
              "    </tr>\n",
              "    <tr>\n",
              "      <th>Asia</th>\n",
              "      <td>118833</td>\n",
              "      <td>118833</td>\n",
              "      <td>118833</td>\n",
              "      <td>118833</td>\n",
              "    </tr>\n",
              "    <tr>\n",
              "      <th>Australia</th>\n",
              "      <td>26931</td>\n",
              "      <td>26931</td>\n",
              "      <td>26931</td>\n",
              "      <td>26931</td>\n",
              "    </tr>\n",
              "    <tr>\n",
              "      <th>Europe</th>\n",
              "      <td>54136</td>\n",
              "      <td>54136</td>\n",
              "      <td>54136</td>\n",
              "      <td>54136</td>\n",
              "    </tr>\n",
              "    <tr>\n",
              "      <th>North America</th>\n",
              "      <td>92767</td>\n",
              "      <td>92767</td>\n",
              "      <td>92767</td>\n",
              "      <td>92767</td>\n",
              "    </tr>\n",
              "    <tr>\n",
              "      <th>South America</th>\n",
              "      <td>51706</td>\n",
              "      <td>51706</td>\n",
              "      <td>51706</td>\n",
              "      <td>51706</td>\n",
              "    </tr>\n",
              "  </tbody>\n",
              "</table>\n",
              "</div>"
            ],
            "text/plain": [
              "               datetime  event_type  country  user_id\n",
              "topic                                                \n",
              "Africa            27481       27481    27481    27481\n",
              "Asia             118833      118833   118833   118833\n",
              "Australia         26931       26931    26931    26931\n",
              "Europe            54136       54136    54136    54136\n",
              "North America     92767       92767    92767    92767\n",
              "South America     51706       51706    51706    51706"
            ]
          },
          "metadata": {
            "tags": []
          },
          "execution_count": 44
        }
      ]
    },
    {
      "cell_type": "code",
      "metadata": {
        "id": "lkZ-GOmn0pAQ"
      },
      "source": [
        "returntopic = returning_readers2.groupby('topic').count()"
      ],
      "execution_count": null,
      "outputs": []
    },
    {
      "cell_type": "code",
      "metadata": {
        "colab": {
          "base_uri": "https://localhost:8080/",
          "height": 257
        },
        "id": "1NJsSzib0tvc",
        "outputId": "545d40b7-b5f1-4279-e2d9-69672939576c"
      },
      "source": [
        "returntopic.drop(columns = ['datetime','country','event_type'])"
      ],
      "execution_count": null,
      "outputs": [
        {
          "output_type": "execute_result",
          "data": {
            "text/html": [
              "<div>\n",
              "<style scoped>\n",
              "    .dataframe tbody tr th:only-of-type {\n",
              "        vertical-align: middle;\n",
              "    }\n",
              "\n",
              "    .dataframe tbody tr th {\n",
              "        vertical-align: top;\n",
              "    }\n",
              "\n",
              "    .dataframe thead th {\n",
              "        text-align: right;\n",
              "    }\n",
              "</style>\n",
              "<table border=\"1\" class=\"dataframe\">\n",
              "  <thead>\n",
              "    <tr style=\"text-align: right;\">\n",
              "      <th></th>\n",
              "      <th>user_id</th>\n",
              "    </tr>\n",
              "    <tr>\n",
              "      <th>topic</th>\n",
              "      <th></th>\n",
              "    </tr>\n",
              "  </thead>\n",
              "  <tbody>\n",
              "    <tr>\n",
              "      <th>Africa</th>\n",
              "      <td>27481</td>\n",
              "    </tr>\n",
              "    <tr>\n",
              "      <th>Asia</th>\n",
              "      <td>118833</td>\n",
              "    </tr>\n",
              "    <tr>\n",
              "      <th>Australia</th>\n",
              "      <td>26931</td>\n",
              "    </tr>\n",
              "    <tr>\n",
              "      <th>Europe</th>\n",
              "      <td>54136</td>\n",
              "    </tr>\n",
              "    <tr>\n",
              "      <th>North America</th>\n",
              "      <td>92767</td>\n",
              "    </tr>\n",
              "    <tr>\n",
              "      <th>South America</th>\n",
              "      <td>51706</td>\n",
              "    </tr>\n",
              "  </tbody>\n",
              "</table>\n",
              "</div>"
            ],
            "text/plain": [
              "               user_id\n",
              "topic                 \n",
              "Africa           27481\n",
              "Asia            118833\n",
              "Australia        26931\n",
              "Europe           54136\n",
              "North America    92767\n",
              "South America    51706"
            ]
          },
          "metadata": {
            "tags": []
          },
          "execution_count": 46
        }
      ]
    },
    {
      "cell_type": "code",
      "metadata": {
        "id": "MSE2GKMM0yRJ"
      },
      "source": [
        "returntopic1 = returntopic.drop(columns = ['datetime','country','event_type'])"
      ],
      "execution_count": null,
      "outputs": []
    },
    {
      "cell_type": "code",
      "metadata": {
        "colab": {
          "base_uri": "https://localhost:8080/",
          "height": 358
        },
        "id": "OD09ywVQ039h",
        "outputId": "9913d8c0-1c6f-438c-edfd-55006307a568"
      },
      "source": [
        "returntopic1.plot.bar()\n",
        "plt.ylabel('Total Count')\n",
        "plt.title('Total Count for returning readers by topic')\n",
        "plt.show()"
      ],
      "execution_count": null,
      "outputs": [
        {
          "output_type": "display_data",
          "data": {
            "image/png": "[encoded data removed]",
            "text/plain": [
              "<Figure size 432x288 with 1 Axes>"
            ]
          },
          "metadata": {
            "tags": [],
            "needs_background": "light"
          }
        }
      ]
    },
    {
      "cell_type": "markdown",
      "metadata": {
        "id": "5tN4GWHa6eJY"
      },
      "source": []
    },
    {
      "cell_type": "code",
      "metadata": {
        "colab": {
          "base_uri": "https://localhost:8080/",
          "height": 167
        },
        "id": "VNXw9NiF09Xn",
        "outputId": "d4062c10-a732-4b81-dd30-ed873bf06b7e"
      },
      "source": [
        "dilans.groupby('event_type').count()"
      ],
      "execution_count": null,
      "outputs": [
        {
          "output_type": "execute_result",
          "data": {
            "text/html": [
              "<div>\n",
              "<style scoped>\n",
              "    .dataframe tbody tr th:only-of-type {\n",
              "        vertical-align: middle;\n",
              "    }\n",
              "\n",
              "    .dataframe tbody tr th {\n",
              "        vertical-align: top;\n",
              "    }\n",
              "\n",
              "    .dataframe thead th {\n",
              "        text-align: right;\n",
              "    }\n",
              "</style>\n",
              "<table border=\"1\" class=\"dataframe\">\n",
              "  <thead>\n",
              "    <tr style=\"text-align: right;\">\n",
              "      <th></th>\n",
              "      <th>datetime</th>\n",
              "      <th>country</th>\n",
              "      <th>user_id</th>\n",
              "      <th>source</th>\n",
              "      <th>topic</th>\n",
              "    </tr>\n",
              "    <tr>\n",
              "      <th>event_type</th>\n",
              "      <th></th>\n",
              "      <th></th>\n",
              "      <th></th>\n",
              "      <th></th>\n",
              "      <th></th>\n",
              "    </tr>\n",
              "  </thead>\n",
              "  <tbody>\n",
              "    <tr>\n",
              "      <th>buy</th>\n",
              "      <td>8407</td>\n",
              "      <td>8407</td>\n",
              "      <td>8407</td>\n",
              "      <td>0</td>\n",
              "      <td>0</td>\n",
              "    </tr>\n",
              "    <tr>\n",
              "      <th>read</th>\n",
              "      <td>581877</td>\n",
              "      <td>581877</td>\n",
              "      <td>581877</td>\n",
              "      <td>581877</td>\n",
              "      <td>210023</td>\n",
              "    </tr>\n",
              "    <tr>\n",
              "      <th>subscribe</th>\n",
              "      <td>7618</td>\n",
              "      <td>7618</td>\n",
              "      <td>0</td>\n",
              "      <td>0</td>\n",
              "      <td>0</td>\n",
              "    </tr>\n",
              "  </tbody>\n",
              "</table>\n",
              "</div>"
            ],
            "text/plain": [
              "            datetime  country  user_id  source   topic\n",
              "event_type                                            \n",
              "buy             8407     8407     8407       0       0\n",
              "read          581877   581877   581877  581877  210023\n",
              "subscribe       7618     7618        0       0       0"
            ]
          },
          "metadata": {
            "tags": []
          },
          "execution_count": 49
        }
      ]
    },
    {
      "cell_type": "code",
      "metadata": {
        "id": "njidEres1HjU"
      },
      "source": [
        "event_type = dilans.groupby('event_type').count()"
      ],
      "execution_count": null,
      "outputs": []
    },
    {
      "cell_type": "code",
      "metadata": {
        "colab": {
          "base_uri": "https://localhost:8080/",
          "height": 167
        },
        "id": "9WWPLm8z1NOr",
        "outputId": "4d2fd40b-a4eb-4f62-b568-6bec512e8e4f"
      },
      "source": [
        "event_type.drop(columns = ['datetime','country','source','topic'])"
      ],
      "execution_count": null,
      "outputs": [
        {
          "output_type": "execute_result",
          "data": {
            "text/html": [
              "<div>\n",
              "<style scoped>\n",
              "    .dataframe tbody tr th:only-of-type {\n",
              "        vertical-align: middle;\n",
              "    }\n",
              "\n",
              "    .dataframe tbody tr th {\n",
              "        vertical-align: top;\n",
              "    }\n",
              "\n",
              "    .dataframe thead th {\n",
              "        text-align: right;\n",
              "    }\n",
              "</style>\n",
              "<table border=\"1\" class=\"dataframe\">\n",
              "  <thead>\n",
              "    <tr style=\"text-align: right;\">\n",
              "      <th></th>\n",
              "      <th>user_id</th>\n",
              "    </tr>\n",
              "    <tr>\n",
              "      <th>event_type</th>\n",
              "      <th></th>\n",
              "    </tr>\n",
              "  </thead>\n",
              "  <tbody>\n",
              "    <tr>\n",
              "      <th>buy</th>\n",
              "      <td>8407</td>\n",
              "    </tr>\n",
              "    <tr>\n",
              "      <th>read</th>\n",
              "      <td>581877</td>\n",
              "    </tr>\n",
              "    <tr>\n",
              "      <th>subscribe</th>\n",
              "      <td>0</td>\n",
              "    </tr>\n",
              "  </tbody>\n",
              "</table>\n",
              "</div>"
            ],
            "text/plain": [
              "            user_id\n",
              "event_type         \n",
              "buy            8407\n",
              "read         581877\n",
              "subscribe         0"
            ]
          },
          "metadata": {
            "tags": []
          },
          "execution_count": 51
        }
      ]
    },
    {
      "cell_type": "code",
      "metadata": {
        "id": "9xwALzJ51Uy4"
      },
      "source": [
        "event_type1 = event_type.drop(columns = ['datetime','country','source','topic'])"
      ],
      "execution_count": null,
      "outputs": []
    },
    {
      "cell_type": "code",
      "metadata": {
        "colab": {
          "base_uri": "https://localhost:8080/",
          "height": 334
        },
        "id": "tfopN3mA1Zr_",
        "outputId": "cafadf62-3692-4cd8-f517-9de24e3c2013"
      },
      "source": [
        "event_type1.plot.bar()\n",
        "plt.ylabel('Total Count')\n",
        "plt.title('Total Count for different event_type')\n",
        "plt.show()"
      ],
      "execution_count": null,
      "outputs": [
        {
          "output_type": "display_data",
          "data": {
            "image/png": "[encoded data removed]",
            "text/plain": [
              "<Figure size 432x288 with 1 Axes>"
            ]
          },
          "metadata": {
            "tags": [],
            "needs_background": "light"
          }
        }
      ]
    },
    {
      "cell_type": "code",
      "metadata": {
        "colab": {
          "base_uri": "https://localhost:8080/",
          "height": 406
        },
        "id": "UkzehvPm1d7q",
        "outputId": "dbc5e43b-0c9a-4dff-9fe0-ca065025bba9"
      },
      "source": [
        "dilans[dilans.event_type == 'buy']"
      ],
      "execution_count": null,
      "outputs": [
        {
          "output_type": "execute_result",
          "data": {
            "text/html": [
              "<div>\n",
              "<style scoped>\n",
              "    .dataframe tbody tr th:only-of-type {\n",
              "        vertical-align: middle;\n",
              "    }\n",
              "\n",
              "    .dataframe tbody tr th {\n",
              "        vertical-align: top;\n",
              "    }\n",
              "\n",
              "    .dataframe thead th {\n",
              "        text-align: right;\n",
              "    }\n",
              "</style>\n",
              "<table border=\"1\" class=\"dataframe\">\n",
              "  <thead>\n",
              "    <tr style=\"text-align: right;\">\n",
              "      <th></th>\n",
              "      <th>datetime</th>\n",
              "      <th>event_type</th>\n",
              "      <th>country</th>\n",
              "      <th>user_id</th>\n",
              "      <th>source</th>\n",
              "      <th>topic</th>\n",
              "    </tr>\n",
              "  </thead>\n",
              "  <tbody>\n",
              "    <tr>\n",
              "      <th>320</th>\n",
              "      <td>2018-01-01 04:04:59</td>\n",
              "      <td>buy</td>\n",
              "      <td>2458151555</td>\n",
              "      <td>8.0</td>\n",
              "      <td>NaN</td>\n",
              "      <td>NaN</td>\n",
              "    </tr>\n",
              "    <tr>\n",
              "      <th>745</th>\n",
              "      <td>2018-01-01 09:28:00</td>\n",
              "      <td>buy</td>\n",
              "      <td>2458151933</td>\n",
              "      <td>8.0</td>\n",
              "      <td>NaN</td>\n",
              "      <td>NaN</td>\n",
              "    </tr>\n",
              "    <tr>\n",
              "      <th>1073</th>\n",
              "      <td>2018-01-01 13:23:16</td>\n",
              "      <td>buy</td>\n",
              "      <td>2458152245</td>\n",
              "      <td>8.0</td>\n",
              "      <td>NaN</td>\n",
              "      <td>NaN</td>\n",
              "    </tr>\n",
              "    <tr>\n",
              "      <th>1150</th>\n",
              "      <td>2018-01-01 14:20:43</td>\n",
              "      <td>buy</td>\n",
              "      <td>2458152315</td>\n",
              "      <td>8.0</td>\n",
              "      <td>NaN</td>\n",
              "      <td>NaN</td>\n",
              "    </tr>\n",
              "    <tr>\n",
              "      <th>1351</th>\n",
              "      <td>2018-01-01 16:56:04</td>\n",
              "      <td>buy</td>\n",
              "      <td>2458152371</td>\n",
              "      <td>8.0</td>\n",
              "      <td>NaN</td>\n",
              "      <td>NaN</td>\n",
              "    </tr>\n",
              "    <tr>\n",
              "      <th>...</th>\n",
              "      <td>...</td>\n",
              "      <td>...</td>\n",
              "      <td>...</td>\n",
              "      <td>...</td>\n",
              "      <td>...</td>\n",
              "      <td>...</td>\n",
              "    </tr>\n",
              "    <tr>\n",
              "      <th>596620</th>\n",
              "      <td>2018-03-30 20:22:46</td>\n",
              "      <td>buy</td>\n",
              "      <td>2458330984</td>\n",
              "      <td>80.0</td>\n",
              "      <td>NaN</td>\n",
              "      <td>NaN</td>\n",
              "    </tr>\n",
              "    <tr>\n",
              "      <th>596981</th>\n",
              "      <td>2018-03-30 21:33:49</td>\n",
              "      <td>buy</td>\n",
              "      <td>2458180092</td>\n",
              "      <td>8.0</td>\n",
              "      <td>NaN</td>\n",
              "      <td>NaN</td>\n",
              "    </tr>\n",
              "    <tr>\n",
              "      <th>597391</th>\n",
              "      <td>2018-03-30 22:52:29</td>\n",
              "      <td>buy</td>\n",
              "      <td>2458331539</td>\n",
              "      <td>80.0</td>\n",
              "      <td>NaN</td>\n",
              "      <td>NaN</td>\n",
              "    </tr>\n",
              "    <tr>\n",
              "      <th>597517</th>\n",
              "      <td>2018-03-30 23:11:30</td>\n",
              "      <td>buy</td>\n",
              "      <td>2458339835</td>\n",
              "      <td>80.0</td>\n",
              "      <td>NaN</td>\n",
              "      <td>NaN</td>\n",
              "    </tr>\n",
              "    <tr>\n",
              "      <th>597750</th>\n",
              "      <td>2018-03-30 23:56:01</td>\n",
              "      <td>buy</td>\n",
              "      <td>2458264806</td>\n",
              "      <td>8.0</td>\n",
              "      <td>NaN</td>\n",
              "      <td>NaN</td>\n",
              "    </tr>\n",
              "  </tbody>\n",
              "</table>\n",
              "<p>8407 rows × 6 columns</p>\n",
              "</div>"
            ],
            "text/plain": [
              "                   datetime event_type     country  user_id source topic\n",
              "320     2018-01-01 04:04:59        buy  2458151555      8.0    NaN   NaN\n",
              "745     2018-01-01 09:28:00        buy  2458151933      8.0    NaN   NaN\n",
              "1073    2018-01-01 13:23:16        buy  2458152245      8.0    NaN   NaN\n",
              "1150    2018-01-01 14:20:43        buy  2458152315      8.0    NaN   NaN\n",
              "1351    2018-01-01 16:56:04        buy  2458152371      8.0    NaN   NaN\n",
              "...                     ...        ...         ...      ...    ...   ...\n",
              "596620  2018-03-30 20:22:46        buy  2458330984     80.0    NaN   NaN\n",
              "596981  2018-03-30 21:33:49        buy  2458180092      8.0    NaN   NaN\n",
              "597391  2018-03-30 22:52:29        buy  2458331539     80.0    NaN   NaN\n",
              "597517  2018-03-30 23:11:30        buy  2458339835     80.0    NaN   NaN\n",
              "597750  2018-03-30 23:56:01        buy  2458264806      8.0    NaN   NaN\n",
              "\n",
              "[8407 rows x 6 columns]"
            ]
          },
          "metadata": {
            "tags": []
          },
          "execution_count": 54
        }
      ]
    },
    {
      "cell_type": "code",
      "metadata": {
        "id": "bATNbOZK1lsx"
      },
      "source": [
        "buyers = dilans[dilans.event_type == 'buy']"
      ],
      "execution_count": null,
      "outputs": []
    },
    {
      "cell_type": "code",
      "metadata": {
        "colab": {
          "base_uri": "https://localhost:8080/",
          "height": 406
        },
        "id": "LNEncWLh1tFQ",
        "outputId": "66008e81-1bfc-4c54-a709-313f1a7e0131"
      },
      "source": [
        "buyers.drop(columns = ['datetime','country','source','topic'])"
      ],
      "execution_count": null,
      "outputs": [
        {
          "output_type": "execute_result",
          "data": {
            "text/html": [
              "<div>\n",
              "<style scoped>\n",
              "    .dataframe tbody tr th:only-of-type {\n",
              "        vertical-align: middle;\n",
              "    }\n",
              "\n",
              "    .dataframe tbody tr th {\n",
              "        vertical-align: top;\n",
              "    }\n",
              "\n",
              "    .dataframe thead th {\n",
              "        text-align: right;\n",
              "    }\n",
              "</style>\n",
              "<table border=\"1\" class=\"dataframe\">\n",
              "  <thead>\n",
              "    <tr style=\"text-align: right;\">\n",
              "      <th></th>\n",
              "      <th>event_type</th>\n",
              "      <th>user_id</th>\n",
              "    </tr>\n",
              "  </thead>\n",
              "  <tbody>\n",
              "    <tr>\n",
              "      <th>320</th>\n",
              "      <td>buy</td>\n",
              "      <td>8.0</td>\n",
              "    </tr>\n",
              "    <tr>\n",
              "      <th>745</th>\n",
              "      <td>buy</td>\n",
              "      <td>8.0</td>\n",
              "    </tr>\n",
              "    <tr>\n",
              "      <th>1073</th>\n",
              "      <td>buy</td>\n",
              "      <td>8.0</td>\n",
              "    </tr>\n",
              "    <tr>\n",
              "      <th>1150</th>\n",
              "      <td>buy</td>\n",
              "      <td>8.0</td>\n",
              "    </tr>\n",
              "    <tr>\n",
              "      <th>1351</th>\n",
              "      <td>buy</td>\n",
              "      <td>8.0</td>\n",
              "    </tr>\n",
              "    <tr>\n",
              "      <th>...</th>\n",
              "      <td>...</td>\n",
              "      <td>...</td>\n",
              "    </tr>\n",
              "    <tr>\n",
              "      <th>596620</th>\n",
              "      <td>buy</td>\n",
              "      <td>80.0</td>\n",
              "    </tr>\n",
              "    <tr>\n",
              "      <th>596981</th>\n",
              "      <td>buy</td>\n",
              "      <td>8.0</td>\n",
              "    </tr>\n",
              "    <tr>\n",
              "      <th>597391</th>\n",
              "      <td>buy</td>\n",
              "      <td>80.0</td>\n",
              "    </tr>\n",
              "    <tr>\n",
              "      <th>597517</th>\n",
              "      <td>buy</td>\n",
              "      <td>80.0</td>\n",
              "    </tr>\n",
              "    <tr>\n",
              "      <th>597750</th>\n",
              "      <td>buy</td>\n",
              "      <td>8.0</td>\n",
              "    </tr>\n",
              "  </tbody>\n",
              "</table>\n",
              "<p>8407 rows × 2 columns</p>\n",
              "</div>"
            ],
            "text/plain": [
              "       event_type  user_id\n",
              "320           buy      8.0\n",
              "745           buy      8.0\n",
              "1073          buy      8.0\n",
              "1150          buy      8.0\n",
              "1351          buy      8.0\n",
              "...           ...      ...\n",
              "596620        buy     80.0\n",
              "596981        buy      8.0\n",
              "597391        buy     80.0\n",
              "597517        buy     80.0\n",
              "597750        buy      8.0\n",
              "\n",
              "[8407 rows x 2 columns]"
            ]
          },
          "metadata": {
            "tags": []
          },
          "execution_count": 56
        }
      ]
    },
    {
      "cell_type": "code",
      "metadata": {
        "id": "vcsnX-JG1xhS"
      },
      "source": [
        "buyers1 = buyers.drop(columns = ['datetime','country','source','topic'])"
      ],
      "execution_count": null,
      "outputs": []
    },
    {
      "cell_type": "code",
      "metadata": {
        "colab": {
          "base_uri": "https://localhost:8080/",
          "height": 406
        },
        "id": "lUot96a-13ci",
        "outputId": "298fffdd-e3af-43bf-a81a-53c76520cdaf"
      },
      "source": [
        "buyers1.rename(columns = {'user_id':'Price'})"
      ],
      "execution_count": null,
      "outputs": [
        {
          "output_type": "execute_result",
          "data": {
            "text/html": [
              "<div>\n",
              "<style scoped>\n",
              "    .dataframe tbody tr th:only-of-type {\n",
              "        vertical-align: middle;\n",
              "    }\n",
              "\n",
              "    .dataframe tbody tr th {\n",
              "        vertical-align: top;\n",
              "    }\n",
              "\n",
              "    .dataframe thead th {\n",
              "        text-align: right;\n",
              "    }\n",
              "</style>\n",
              "<table border=\"1\" class=\"dataframe\">\n",
              "  <thead>\n",
              "    <tr style=\"text-align: right;\">\n",
              "      <th></th>\n",
              "      <th>event_type</th>\n",
              "      <th>Price</th>\n",
              "    </tr>\n",
              "  </thead>\n",
              "  <tbody>\n",
              "    <tr>\n",
              "      <th>320</th>\n",
              "      <td>buy</td>\n",
              "      <td>8.0</td>\n",
              "    </tr>\n",
              "    <tr>\n",
              "      <th>745</th>\n",
              "      <td>buy</td>\n",
              "      <td>8.0</td>\n",
              "    </tr>\n",
              "    <tr>\n",
              "      <th>1073</th>\n",
              "      <td>buy</td>\n",
              "      <td>8.0</td>\n",
              "    </tr>\n",
              "    <tr>\n",
              "      <th>1150</th>\n",
              "      <td>buy</td>\n",
              "      <td>8.0</td>\n",
              "    </tr>\n",
              "    <tr>\n",
              "      <th>1351</th>\n",
              "      <td>buy</td>\n",
              "      <td>8.0</td>\n",
              "    </tr>\n",
              "    <tr>\n",
              "      <th>...</th>\n",
              "      <td>...</td>\n",
              "      <td>...</td>\n",
              "    </tr>\n",
              "    <tr>\n",
              "      <th>596620</th>\n",
              "      <td>buy</td>\n",
              "      <td>80.0</td>\n",
              "    </tr>\n",
              "    <tr>\n",
              "      <th>596981</th>\n",
              "      <td>buy</td>\n",
              "      <td>8.0</td>\n",
              "    </tr>\n",
              "    <tr>\n",
              "      <th>597391</th>\n",
              "      <td>buy</td>\n",
              "      <td>80.0</td>\n",
              "    </tr>\n",
              "    <tr>\n",
              "      <th>597517</th>\n",
              "      <td>buy</td>\n",
              "      <td>80.0</td>\n",
              "    </tr>\n",
              "    <tr>\n",
              "      <th>597750</th>\n",
              "      <td>buy</td>\n",
              "      <td>8.0</td>\n",
              "    </tr>\n",
              "  </tbody>\n",
              "</table>\n",
              "<p>8407 rows × 2 columns</p>\n",
              "</div>"
            ],
            "text/plain": [
              "       event_type  Price\n",
              "320           buy    8.0\n",
              "745           buy    8.0\n",
              "1073          buy    8.0\n",
              "1150          buy    8.0\n",
              "1351          buy    8.0\n",
              "...           ...    ...\n",
              "596620        buy   80.0\n",
              "596981        buy    8.0\n",
              "597391        buy   80.0\n",
              "597517        buy   80.0\n",
              "597750        buy    8.0\n",
              "\n",
              "[8407 rows x 2 columns]"
            ]
          },
          "metadata": {
            "tags": []
          },
          "execution_count": 58
        }
      ]
    },
    {
      "cell_type": "code",
      "metadata": {
        "id": "NyZLSA3J17sq"
      },
      "source": [
        "buyers2 = buyers1.rename(columns = {'user_id':'Price'})"
      ],
      "execution_count": null,
      "outputs": []
    },
    {
      "cell_type": "code",
      "metadata": {
        "colab": {
          "base_uri": "https://localhost:8080/",
          "height": 137
        },
        "id": "Xf2tQdF-2DXC",
        "outputId": "595ed60e-1d6e-4785-d359-b215e23a79ad"
      },
      "source": [
        "buyers2.groupby('Price').count()"
      ],
      "execution_count": null,
      "outputs": [
        {
          "output_type": "execute_result",
          "data": {
            "text/html": [
              "<div>\n",
              "<style scoped>\n",
              "    .dataframe tbody tr th:only-of-type {\n",
              "        vertical-align: middle;\n",
              "    }\n",
              "\n",
              "    .dataframe tbody tr th {\n",
              "        vertical-align: top;\n",
              "    }\n",
              "\n",
              "    .dataframe thead th {\n",
              "        text-align: right;\n",
              "    }\n",
              "</style>\n",
              "<table border=\"1\" class=\"dataframe\">\n",
              "  <thead>\n",
              "    <tr style=\"text-align: right;\">\n",
              "      <th></th>\n",
              "      <th>event_type</th>\n",
              "    </tr>\n",
              "    <tr>\n",
              "      <th>Price</th>\n",
              "      <th></th>\n",
              "    </tr>\n",
              "  </thead>\n",
              "  <tbody>\n",
              "    <tr>\n",
              "      <th>8.0</th>\n",
              "      <td>6640</td>\n",
              "    </tr>\n",
              "    <tr>\n",
              "      <th>80.0</th>\n",
              "      <td>1767</td>\n",
              "    </tr>\n",
              "  </tbody>\n",
              "</table>\n",
              "</div>"
            ],
            "text/plain": [
              "       event_type\n",
              "Price            \n",
              "8.0          6640\n",
              "80.0         1767"
            ]
          },
          "metadata": {
            "tags": []
          },
          "execution_count": 61
        }
      ]
    },
    {
      "cell_type": "code",
      "metadata": {
        "id": "ak3Npnqm2MG1"
      },
      "source": [
        "buyers3 = buyers2.groupby('Price').count()"
      ],
      "execution_count": null,
      "outputs": []
    },
    {
      "cell_type": "code",
      "metadata": {
        "colab": {
          "base_uri": "https://localhost:8080/",
          "height": 306
        },
        "id": "NG6tjgp22QUh",
        "outputId": "3e1a4909-f433-4dd7-bb13-c79e8eed4dc5"
      },
      "source": [
        "buyers3.plot.bar()\n",
        "plt.ylabel('Total Count')\n",
        "plt.title('Total Count by Price')\n",
        "plt.show()"
      ],
      "execution_count": null,
      "outputs": [
        {
          "output_type": "display_data",
          "data": {
            "image/png": "[encoded data removed]",
            "text/plain": [
              "<Figure size 432x288 with 1 Axes>"
            ]
          },
          "metadata": {
            "tags": [],
            "needs_background": "light"
          }
        }
      ]
    },
    {
      "cell_type": "code",
      "metadata": {
        "colab": {
          "base_uri": "https://localhost:8080/",
          "height": 406
        },
        "id": "hwXs1T242UvF",
        "outputId": "1c956e56-a794-498c-ca8a-d9099db2ec7d"
      },
      "source": [
        "dilans[dilans.event_type == 'subscribe']"
      ],
      "execution_count": null,
      "outputs": [
        {
          "output_type": "execute_result",
          "data": {
            "text/html": [
              "<div>\n",
              "<style scoped>\n",
              "    .dataframe tbody tr th:only-of-type {\n",
              "        vertical-align: middle;\n",
              "    }\n",
              "\n",
              "    .dataframe tbody tr th {\n",
              "        vertical-align: top;\n",
              "    }\n",
              "\n",
              "    .dataframe thead th {\n",
              "        text-align: right;\n",
              "    }\n",
              "</style>\n",
              "<table border=\"1\" class=\"dataframe\">\n",
              "  <thead>\n",
              "    <tr style=\"text-align: right;\">\n",
              "      <th></th>\n",
              "      <th>datetime</th>\n",
              "      <th>event_type</th>\n",
              "      <th>country</th>\n",
              "      <th>user_id</th>\n",
              "      <th>source</th>\n",
              "      <th>topic</th>\n",
              "    </tr>\n",
              "  </thead>\n",
              "  <tbody>\n",
              "    <tr>\n",
              "      <th>10</th>\n",
              "      <td>2018-01-01 00:07:41</td>\n",
              "      <td>subscribe</td>\n",
              "      <td>2458151268</td>\n",
              "      <td>NaN</td>\n",
              "      <td>NaN</td>\n",
              "      <td>NaN</td>\n",
              "    </tr>\n",
              "    <tr>\n",
              "      <th>11</th>\n",
              "      <td>2018-01-01 00:07:44</td>\n",
              "      <td>subscribe</td>\n",
              "      <td>2458151267</td>\n",
              "      <td>NaN</td>\n",
              "      <td>NaN</td>\n",
              "      <td>NaN</td>\n",
              "    </tr>\n",
              "    <tr>\n",
              "      <th>53</th>\n",
              "      <td>2018-01-01 00:40:55</td>\n",
              "      <td>subscribe</td>\n",
              "      <td>2458151309</td>\n",
              "      <td>NaN</td>\n",
              "      <td>NaN</td>\n",
              "      <td>NaN</td>\n",
              "    </tr>\n",
              "    <tr>\n",
              "      <th>101</th>\n",
              "      <td>2018-01-01 01:26:26</td>\n",
              "      <td>subscribe</td>\n",
              "      <td>2458151358</td>\n",
              "      <td>NaN</td>\n",
              "      <td>NaN</td>\n",
              "      <td>NaN</td>\n",
              "    </tr>\n",
              "    <tr>\n",
              "      <th>105</th>\n",
              "      <td>2018-01-01 01:30:39</td>\n",
              "      <td>subscribe</td>\n",
              "      <td>2458151361</td>\n",
              "      <td>NaN</td>\n",
              "      <td>NaN</td>\n",
              "      <td>NaN</td>\n",
              "    </tr>\n",
              "    <tr>\n",
              "      <th>...</th>\n",
              "      <td>...</td>\n",
              "      <td>...</td>\n",
              "      <td>...</td>\n",
              "      <td>...</td>\n",
              "      <td>...</td>\n",
              "      <td>...</td>\n",
              "    </tr>\n",
              "    <tr>\n",
              "      <th>597432</th>\n",
              "      <td>2018-03-30 22:58:30</td>\n",
              "      <td>subscribe</td>\n",
              "      <td>2458272661</td>\n",
              "      <td>NaN</td>\n",
              "      <td>NaN</td>\n",
              "      <td>NaN</td>\n",
              "    </tr>\n",
              "    <tr>\n",
              "      <th>597477</th>\n",
              "      <td>2018-03-30 23:05:11</td>\n",
              "      <td>subscribe</td>\n",
              "      <td>2458258357</td>\n",
              "      <td>NaN</td>\n",
              "      <td>NaN</td>\n",
              "      <td>NaN</td>\n",
              "    </tr>\n",
              "    <tr>\n",
              "      <th>597507</th>\n",
              "      <td>2018-03-30 23:09:25</td>\n",
              "      <td>subscribe</td>\n",
              "      <td>2458338958</td>\n",
              "      <td>NaN</td>\n",
              "      <td>NaN</td>\n",
              "      <td>NaN</td>\n",
              "    </tr>\n",
              "    <tr>\n",
              "      <th>597616</th>\n",
              "      <td>2018-03-30 23:27:52</td>\n",
              "      <td>subscribe</td>\n",
              "      <td>2458339595</td>\n",
              "      <td>NaN</td>\n",
              "      <td>NaN</td>\n",
              "      <td>NaN</td>\n",
              "    </tr>\n",
              "    <tr>\n",
              "      <th>597717</th>\n",
              "      <td>2018-03-30 23:48:48</td>\n",
              "      <td>subscribe</td>\n",
              "      <td>2458173588</td>\n",
              "      <td>NaN</td>\n",
              "      <td>NaN</td>\n",
              "      <td>NaN</td>\n",
              "    </tr>\n",
              "  </tbody>\n",
              "</table>\n",
              "<p>7618 rows × 6 columns</p>\n",
              "</div>"
            ],
            "text/plain": [
              "                   datetime event_type     country  user_id source topic\n",
              "10      2018-01-01 00:07:41  subscribe  2458151268      NaN    NaN   NaN\n",
              "11      2018-01-01 00:07:44  subscribe  2458151267      NaN    NaN   NaN\n",
              "53      2018-01-01 00:40:55  subscribe  2458151309      NaN    NaN   NaN\n",
              "101     2018-01-01 01:26:26  subscribe  2458151358      NaN    NaN   NaN\n",
              "105     2018-01-01 01:30:39  subscribe  2458151361      NaN    NaN   NaN\n",
              "...                     ...        ...         ...      ...    ...   ...\n",
              "597432  2018-03-30 22:58:30  subscribe  2458272661      NaN    NaN   NaN\n",
              "597477  2018-03-30 23:05:11  subscribe  2458258357      NaN    NaN   NaN\n",
              "597507  2018-03-30 23:09:25  subscribe  2458338958      NaN    NaN   NaN\n",
              "597616  2018-03-30 23:27:52  subscribe  2458339595      NaN    NaN   NaN\n",
              "597717  2018-03-30 23:48:48  subscribe  2458173588      NaN    NaN   NaN\n",
              "\n",
              "[7618 rows x 6 columns]"
            ]
          },
          "metadata": {
            "tags": []
          },
          "execution_count": 64
        }
      ]
    },
    {
      "cell_type": "code",
      "metadata": {
        "id": "s54bzQqB3PTH"
      },
      "source": [
        "subscribers = dilans[dilans.event_type == 'subscribe']"
      ],
      "execution_count": null,
      "outputs": []
    },
    {
      "cell_type": "code",
      "metadata": {
        "colab": {
          "base_uri": "https://localhost:8080/",
          "height": 436
        },
        "id": "cz_jQM7-2gqK",
        "outputId": "5141eb1a-2265-4b51-fb04-2a20885a42c4"
      },
      "source": [
        "subscribers.groupby('country').count()"
      ],
      "execution_count": null,
      "outputs": [
        {
          "output_type": "execute_result",
          "data": {
            "text/html": [
              "<div>\n",
              "<style scoped>\n",
              "    .dataframe tbody tr th:only-of-type {\n",
              "        vertical-align: middle;\n",
              "    }\n",
              "\n",
              "    .dataframe tbody tr th {\n",
              "        vertical-align: top;\n",
              "    }\n",
              "\n",
              "    .dataframe thead th {\n",
              "        text-align: right;\n",
              "    }\n",
              "</style>\n",
              "<table border=\"1\" class=\"dataframe\">\n",
              "  <thead>\n",
              "    <tr style=\"text-align: right;\">\n",
              "      <th></th>\n",
              "      <th>datetime</th>\n",
              "      <th>event_type</th>\n",
              "      <th>user_id</th>\n",
              "      <th>source</th>\n",
              "      <th>topic</th>\n",
              "    </tr>\n",
              "    <tr>\n",
              "      <th>country</th>\n",
              "      <th></th>\n",
              "      <th></th>\n",
              "      <th></th>\n",
              "      <th></th>\n",
              "      <th></th>\n",
              "    </tr>\n",
              "  </thead>\n",
              "  <tbody>\n",
              "    <tr>\n",
              "      <th>2458151267</th>\n",
              "      <td>1</td>\n",
              "      <td>1</td>\n",
              "      <td>0</td>\n",
              "      <td>0</td>\n",
              "      <td>0</td>\n",
              "    </tr>\n",
              "    <tr>\n",
              "      <th>2458151268</th>\n",
              "      <td>1</td>\n",
              "      <td>1</td>\n",
              "      <td>0</td>\n",
              "      <td>0</td>\n",
              "      <td>0</td>\n",
              "    </tr>\n",
              "    <tr>\n",
              "      <th>2458151272</th>\n",
              "      <td>1</td>\n",
              "      <td>1</td>\n",
              "      <td>0</td>\n",
              "      <td>0</td>\n",
              "      <td>0</td>\n",
              "    </tr>\n",
              "    <tr>\n",
              "      <th>2458151279</th>\n",
              "      <td>1</td>\n",
              "      <td>1</td>\n",
              "      <td>0</td>\n",
              "      <td>0</td>\n",
              "      <td>0</td>\n",
              "    </tr>\n",
              "    <tr>\n",
              "      <th>2458151287</th>\n",
              "      <td>1</td>\n",
              "      <td>1</td>\n",
              "      <td>0</td>\n",
              "      <td>0</td>\n",
              "      <td>0</td>\n",
              "    </tr>\n",
              "    <tr>\n",
              "      <th>...</th>\n",
              "      <td>...</td>\n",
              "      <td>...</td>\n",
              "      <td>...</td>\n",
              "      <td>...</td>\n",
              "      <td>...</td>\n",
              "    </tr>\n",
              "    <tr>\n",
              "      <th>2458342659</th>\n",
              "      <td>1</td>\n",
              "      <td>1</td>\n",
              "      <td>0</td>\n",
              "      <td>0</td>\n",
              "      <td>0</td>\n",
              "    </tr>\n",
              "    <tr>\n",
              "      <th>2458342889</th>\n",
              "      <td>1</td>\n",
              "      <td>1</td>\n",
              "      <td>0</td>\n",
              "      <td>0</td>\n",
              "      <td>0</td>\n",
              "    </tr>\n",
              "    <tr>\n",
              "      <th>2458343139</th>\n",
              "      <td>1</td>\n",
              "      <td>1</td>\n",
              "      <td>0</td>\n",
              "      <td>0</td>\n",
              "      <td>0</td>\n",
              "    </tr>\n",
              "    <tr>\n",
              "      <th>2458343185</th>\n",
              "      <td>1</td>\n",
              "      <td>1</td>\n",
              "      <td>0</td>\n",
              "      <td>0</td>\n",
              "      <td>0</td>\n",
              "    </tr>\n",
              "    <tr>\n",
              "      <th>2458343241</th>\n",
              "      <td>1</td>\n",
              "      <td>1</td>\n",
              "      <td>0</td>\n",
              "      <td>0</td>\n",
              "      <td>0</td>\n",
              "    </tr>\n",
              "  </tbody>\n",
              "</table>\n",
              "<p>7618 rows × 5 columns</p>\n",
              "</div>"
            ],
            "text/plain": [
              "            datetime  event_type  user_id  source  topic\n",
              "country                                                 \n",
              "2458151267         1           1        0       0      0\n",
              "2458151268         1           1        0       0      0\n",
              "2458151272         1           1        0       0      0\n",
              "2458151279         1           1        0       0      0\n",
              "2458151287         1           1        0       0      0\n",
              "...              ...         ...      ...     ...    ...\n",
              "2458342659         1           1        0       0      0\n",
              "2458342889         1           1        0       0      0\n",
              "2458343139         1           1        0       0      0\n",
              "2458343185         1           1        0       0      0\n",
              "2458343241         1           1        0       0      0\n",
              "\n",
              "[7618 rows x 5 columns]"
            ]
          },
          "metadata": {
            "tags": []
          },
          "execution_count": 66
        }
      ]
    },
    {
      "cell_type": "code",
      "metadata": {
        "id": "603KLeVG3hNI"
      },
      "source": [],
      "execution_count": null,
      "outputs": []
    }
  ]
}